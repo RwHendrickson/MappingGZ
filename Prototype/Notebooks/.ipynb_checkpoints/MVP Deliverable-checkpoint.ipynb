{
 "cells": [
  {
   "cell_type": "markdown",
   "id": "55f4c09a-8ab0-45ec-9454-13711cb8b81e",
   "metadata": {},
   "source": [
    "From the deliverable:\n",
    "\n",
    "1)Markdown cell at the top with a title (#) and a description of your project\n",
    "2)One code cell that imports the packages your notebook needs to run\n",
    "3)Some additional code cells that serve as your MVP. Remember - simple!!\n",
    "4)A Markdown cell at the bottom of the notebook with 1 paragraph that explains why this\n",
    "notebook represents a MVP of your project."
   ]
  },
  {
   "cell_type": "markdown",
   "id": "09c7322c-add6-470a-8aa7-399da4b6c3e7",
   "metadata": {},
   "source": [
    "# Mapping Green Zones"
   ]
  },
  {
   "cell_type": "markdown",
   "id": "40b6012e-d786-4791-9eec-b13ff25e8586",
   "metadata": {},
   "source": [
    "Create an interactive web site that promotes environmental justice and highlights the\n",
    "characteristics of the protected municipal Green Zones in Minneapolis.\n"
   ]
  },
  {
   "cell_type": "markdown",
   "id": "f5d9b8a5-3f9f-4282-ac3e-3c29ee570ef6",
   "metadata": {},
   "source": [
    "### Packages needed for our project"
   ]
  },
  {
   "cell_type": "code",
   "execution_count": 1,
   "id": "ba445b9d-fe3f-43f7-bc29-eed0eb1428a4",
   "metadata": {},
   "outputs": [],
   "source": [
    "### Import Libraries\n",
    "\n",
    "# File manipulation\n",
    "\n",
    "import os # For working with Operating System\n",
    "from sys import platform # Diagnose operating system\n",
    "import urllib # For accessing websites\n",
    "import zipfile # For extracting from Zipfiles\n",
    "from io import BytesIO # For reading bytes objects\n",
    "\n",
    "# Analysis\n",
    "\n",
    "import numpy as np # For working with Arrays\n",
    "import pandas as pd # Data Manipulation\n",
    "import geopandas as gpd # Spatial Data Manipulation\n",
    "\n",
    "# Visualization\n",
    "\n",
    "from pprint import pprint # Pretty Printing\n",
    "import matplotlib.pyplot as plt # Basic Plotting\n",
    "#import contextily # Base Map Visualization\n",
    "\n",
    "import warnings\n",
    "warnings.filterwarnings('ignore') # Ignores some warnings"
   ]
  },
  {
   "cell_type": "markdown",
   "id": "d17c8017-38a0-4d15-b50a-484c06c8355e",
   "metadata": {},
   "source": [
    "### Our MVP"
   ]
  },
  {
   "cell_type": "markdown",
   "id": "720eb058-e7b9-4819-8e8e-4201480524b4",
   "metadata": {},
   "source": [
    "#### Load Data"
   ]
  },
  {
   "cell_type": "code",
   "execution_count": 2,
   "id": "4c2f9e4a-dad3-4314-96d4-ee69a6e81775",
   "metadata": {},
   "outputs": [
    {
     "ename": "NameError",
     "evalue": "name 'slash' is not defined",
     "output_type": "error",
     "traceback": [
      "\u001b[1;31m---------------------------------------------------------------------------\u001b[0m",
      "\u001b[1;31mNameError\u001b[0m                                 Traceback (most recent call last)",
      "\u001b[1;32m~\\AppData\\Local\\Temp\\ipykernel_25652\\3637532357.py\u001b[0m in \u001b[0;36m<module>\u001b[1;34m\u001b[0m\n\u001b[0;32m      8\u001b[0m \u001b[0mcwd\u001b[0m \u001b[1;33m=\u001b[0m \u001b[0mos\u001b[0m\u001b[1;33m.\u001b[0m\u001b[0mgetcwd\u001b[0m\u001b[1;33m(\u001b[0m\u001b[1;33m)\u001b[0m\u001b[1;33m\u001b[0m\u001b[1;33m\u001b[0m\u001b[0m\n\u001b[0;32m      9\u001b[0m \u001b[1;33m\u001b[0m\u001b[0m\n\u001b[1;32m---> 10\u001b[1;33m \u001b[0mmpls_aadt_path\u001b[0m \u001b[1;33m=\u001b[0m \u001b[0mcwd\u001b[0m \u001b[1;33m+\u001b[0m \u001b[0mslash\u001b[0m \u001b[1;33m+\u001b[0m \u001b[1;34m'CleaningData'\u001b[0m \u001b[1;33m+\u001b[0m \u001b[0mslash\u001b[0m \u001b[1;33m+\u001b[0m \u001b[1;34m'Traffic'\u001b[0m \u001b[1;33m+\u001b[0m \u001b[0mslash\u001b[0m \u001b[1;33m+\u001b[0m \u001b[1;34m'mpls_aadtWGS84.geojson'\u001b[0m\u001b[1;33m\u001b[0m\u001b[1;33m\u001b[0m\u001b[0m\n\u001b[0m\u001b[0;32m     11\u001b[0m \u001b[0mmpls_emissions_path\u001b[0m \u001b[1;33m=\u001b[0m \u001b[0mcwd\u001b[0m \u001b[1;33m+\u001b[0m \u001b[0mslash\u001b[0m \u001b[1;33m+\u001b[0m \u001b[1;34m'CleaningData'\u001b[0m \u001b[1;33m+\u001b[0m \u001b[0mslash\u001b[0m \u001b[1;33m+\u001b[0m \u001b[1;34m'PermittedEmissions'\u001b[0m \u001b[1;33m+\u001b[0m \u001b[0mslash\u001b[0m \u001b[1;33m+\u001b[0m \u001b[1;34m'mpls_emissions.csv'\u001b[0m\u001b[1;33m\u001b[0m\u001b[1;33m\u001b[0m\u001b[0m\n\u001b[0;32m     12\u001b[0m \u001b[1;33m\u001b[0m\u001b[0m\n",
      "\u001b[1;31mNameError\u001b[0m: name 'slash' is not defined"
     ]
    }
   ],
   "source": [
    "url = (\n",
    "    \"https://raw.githubusercontent.com/RwHendrickson/MappingGZ/main/Prototype/Notebooks/CleaningData\"\n",
    ")\n",
    "mpls_boundary_path = f\"{url}/Boundary/mpls_boundaryWGS84.geojson\"\n",
    "\n",
    "# Get bigger files from computer\n",
    "\n",
    "cwd = os.getcwd()\n",
    "\n",
    "mpls_aadt_path = cwd + slash + 'CleaningData' + slash + 'Traffic' + slash + 'mpls_aadtWGS84.geojson'\n",
    "mpls_emissions_path = cwd + slash + 'CleaningData' + slash + 'PermittedEmissions' + slash + 'mpls_emissions.csv'\n",
    "\n",
    "# Load files as geodataframes for focusing data\n",
    "\n",
    "traffic = gpd.read_file(mpls_aadt_path)\n",
    "emissions = pd.read_csv(mpls_emissions_path)\n",
    "\n",
    "emissions_geo = gpd.GeoDataFrame(emissions, geometry = gpd.points_from_xy(emissions.LONGITUDE, emissions.LATITUDE, crs = 'EPSG:4326'))"
   ]
  },
  {
   "cell_type": "code",
   "execution_count": null,
   "id": "c2ebbad0-4d3f-4713-83f5-5369e89a84e1",
   "metadata": {},
   "outputs": [],
   "source": [
    "# Focus Data\n",
    "\n",
    "## Traffic\n",
    "\n",
    "aadt = traffic[['SEQUENCE_N', 'ROUTE_LABE', 'CURRENT_VO', 'geometry']]\n",
    "\n",
    "# Emissions\n",
    "\n",
    "emissions_2020 = emissions_geo[emissions_geo['YEAR']==2020][['FACILITY_NAME', 'INDUSTRY_TYPE', 'NAICS_CODE', 'POLLUTANT', 'LBS_EMITTED','geometry']]\n",
    "vocs = emissions_2020[emissions_2020['POLLUTANT'] == 'Volatile Organic Compounds']\n",
    "# pm = emissions_2020[emissions_2020['POLLUTANT'] == 'PM Primary']"
   ]
  },
  {
   "cell_type": "markdown",
   "id": "3d9caa91-2dd4-4b8f-9809-e7c3881425dd",
   "metadata": {},
   "source": [
    "#### Define Visualizations"
   ]
  },
  {
   "cell_type": "markdown",
   "id": "caaa72ee-4547-44d1-b672-b95142a9f1e3",
   "metadata": {},
   "source": [
    "##### 1. Annual Average Daily Traffic"
   ]
  },
  {
   "cell_type": "code",
   "execution_count": null,
   "id": "d344ebeb-8797-40c9-98e5-3a33d4ea5fec",
   "metadata": {},
   "outputs": [],
   "source": [
    "### AADT style\n",
    "\n",
    "def style_aadt(feature):\n",
    "    '''Set Thickness/color of streets to be proportional to traffic volume'''\n",
    "    \n",
    "    volume = feature['properties']['CURRENT_VO']\n",
    "    \n",
    "    \n",
    "    # This is not the way to add a popup\n",
    "    popup = f\"Road: {feature['properties']['ROUTE_LABE']}\\n Current Average Vehicles per Day: {feature['properties']['CURRENT_VO']}\" \n",
    "    \n",
    "    if volume < 1773: # Low volume\n",
    "        return {\n",
    "        \"weight\": 1,\n",
    "        \"color\": \"#848484\",\n",
    "        'popup': popup\n",
    "    }\n",
    "    elif volume < 5378: # Low-mid volume\n",
    "        return {\n",
    "        \"weight\": 2,\n",
    "        \"color\": \"#936d6d\",\n",
    "        'popup': popup\n",
    "    }\n",
    "    elif volume < 16308: # Mid volume\n",
    "        return {\n",
    "        \"weight\": 3,\n",
    "        \"color\": \"#a94646\",\n",
    "        'popup': popup\n",
    "    }\n",
    "    elif volume < 100000: # High Volume\n",
    "        return {\n",
    "        \"weight\": 5,\n",
    "        \"color\": \"#f90707\",\n",
    "        'popup': popup\n",
    "    }\n",
    "    else: # Very High Volume Potentially could use another break here\n",
    "        return {\n",
    "        \"weight\": 10,\n",
    "        \"color\": \"#090707\",\n",
    "        'popup': popup\n",
    "    }\n",
    "    "
   ]
  },
  {
   "cell_type": "markdown",
   "id": "c7cb2744-1ab8-4eb3-b9de-310f0d18e512",
   "metadata": {},
   "source": [
    "##### 2. Permitted Volatile Organic Compound Emissions"
   ]
  },
  {
   "cell_type": "code",
   "execution_count": null,
   "id": "8557bfe8-7695-448a-9ed2-59adef748790",
   "metadata": {},
   "outputs": [],
   "source": [
    "    \n",
    "# Plot the facilities' VOC emission\n",
    "    \n",
    "def plot_voc(point):\n",
    "    '''plot circle of facilities related to amount of vocs emitted'''    \n",
    "    \n",
    "    lbs = point.LBS_EMITTED \n",
    "    \n",
    "    if lbs < 25: # Low volume\n",
    "        weight = 1,\n",
    "        color = '#848484'\n",
    "    elif lbs < 100: # Low-mid volume\n",
    "        weight = 3,\n",
    "        color = '#936d6d'\n",
    "    elif lbs < 1000: # Mid volume\n",
    "        weight = 5,\n",
    "        color = '#a94646'\n",
    "    elif lbs < 10000: # High Volume\n",
    "        weight = 10,\n",
    "        color = '#f90707'\n",
    "    else: # Very High Volume\n",
    "        weight = 15,\n",
    "        color = '#090707'\n",
    "        \n",
    "    folium.Circle(location=[point.geometry.y,point.geometry.x],\n",
    "                       weight = weight,\n",
    "                       color = color,\n",
    "                       popup = f'Facility: {point.FACILITY_NAME}\\n Lbs of VOCs Emitted in 2020: {lbs}\\n Industry Type: {point.INDUSTRY_TYPE}\\n NAICS code: {point.NAICS_CODE}'\n",
    "                       ).add_to(m)"
   ]
  },
  {
   "cell_type": "markdown",
   "id": "849b32fc-0f52-4c20-8105-aaaa4d2a89fa",
   "metadata": {},
   "source": [
    "### Map it!"
   ]
  },
  {
   "cell_type": "code",
   "execution_count": null,
   "id": "90be9f33-aaff-4e01-9007-c84cdf44cd1e",
   "metadata": {},
   "outputs": [],
   "source": [
    "# Make a basic folium map\n",
    "\n",
    "m = folium.Map(location=[44.986656, -93.258133],\n",
    "               zoom_start=12,\n",
    "               tiles = 'cartodbpositron')\n",
    "\n",
    "# Add boundary\n",
    "\n",
    "folium.GeoJson(mpls_boundary_path, name=\"geojson\").add_to(m)\n",
    "\n",
    "# Add traffic\n",
    "\n",
    "folium.GeoJson(aadt,\n",
    "               style_function = lambda feature: style_aadt(feature)).add_to(m)\n",
    "\n",
    "# Add Volatile Organic Compounds\n",
    "\n",
    "vocs.apply(plot_voc, axis = 1)\n",
    "\n",
    "m"
   ]
  },
  {
   "cell_type": "markdown",
   "id": "008267f9-0df7-4a35-acfe-e2d8b676c333",
   "metadata": {},
   "source": [
    "### Save as an HTML file"
   ]
  },
  {
   "cell_type": "code",
   "execution_count": null,
   "id": "7a8527fc-fce0-4c26-9af3-057174ae8d77",
   "metadata": {},
   "outputs": [],
   "source": [
    "# Save Map to html format\n",
    "\n",
    "m.save(os.path.join('.', 'MVP.html'))"
   ]
  },
  {
   "cell_type": "markdown",
   "id": "c9873dd0-4e61-444e-880a-0a56994f87ea",
   "metadata": {},
   "source": [
    "### About our MVP\n",
    "\n",
    "This notebook represents our MVP because we have been able to succesfully clean & clip our data to be within the Minneapolis boundaries. Since we are using a lot of data from many different sources, we have only finished cleaning the emissions and traffic data - we are still working on cleaning the What's in my Neighborhood, demographics, health, and historic HOLC map data. Once we have fully cleaned & clipped all of the data we will be able to add it to our MVP to create more layers and develop more of our vision of creating an interactive map that contains copious amounts of data for the public to be able to access easily. We have succesfully made our MVP interactive in that we have pop-ups that include useful information about the neighborhood, however we still hope to enable more interactivity. In our initial proposal, we stated that we want to be able to gather data directly from the community - i.e. a comment about a specific happening within the neighborhood. We still need to construct the code toenable user input."
   ]
  }
 ],
 "metadata": {
  "kernelspec": {
   "display_name": "Python 3 (ipykernel)",
   "language": "python",
   "name": "python3"
  },
  "language_info": {
   "codemirror_mode": {
    "name": "ipython",
    "version": 3
   },
   "file_extension": ".py",
   "mimetype": "text/x-python",
   "name": "python",
   "nbconvert_exporter": "python",
   "pygments_lexer": "ipython3",
   "version": "3.7.12"
  }
 },
 "nbformat": 4,
 "nbformat_minor": 5
}
