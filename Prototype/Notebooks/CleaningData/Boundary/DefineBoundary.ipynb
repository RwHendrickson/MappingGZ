{
 "cells": [
  {
   "cell_type": "markdown",
   "id": "581def9c-63aa-41af-a90a-ba4c5f3fe1c8",
   "metadata": {
    "tags": []
   },
   "source": [
    "# Define Spatial Extent of Project\n",
    "\n",
    "Metropolitan Council NAD83 -- UTM zone 15N -- epsg:26915\n",
    "\n",
    "Source: https://gisdata.mn.gov/dataset/us-mn-state-metc-bdry-census2010counties-ctus\n",
    "\n",
    "Metadata: https://resources.gisdata.mn.gov/pub/gdrs/data/pub/us_mn_state_metc/bdry_census2010counties_ctus/metadata/metadata.html\n"
   ]
  },
  {
   "cell_type": "code",
   "execution_count": 1,
   "id": "1015be7c-e47c-4fd0-b338-3420453a14e0",
   "metadata": {},
   "outputs": [],
   "source": [
    "# Import libraries\n",
    "\n",
    "import os # For working with Operating System\n",
    "import shutil # For deleting folders\n",
    "\n",
    "import urllib # For accessing websites\n",
    "import zipfile # For extracting from Zipfiles\n",
    "\n",
    "import geopandas as gpd # Spatial Data Manipulation\n"
   ]
  },
  {
   "cell_type": "code",
   "execution_count": 2,
   "id": "badabbe9-ffb4-48b7-acb4-89fe60c79f00",
   "metadata": {},
   "outputs": [],
   "source": [
    "# Download from source\n",
    "\n",
    "# Retrieve file (~ 5mb)\n",
    "\n",
    "urllib.request.urlretrieve(\"https://resources.gisdata.mn.gov/pub/gdrs/data/pub/us_mn_state_metc/bdry_census2010counties_ctus/shp_bdry_census2010counties_ctus.zip\",\n",
    "                           \"shp_bdry_census2010counties_ctus.zip\") \n",
    "# Extract from Zip\n",
    "\n",
    "with zipfile.ZipFile(\"shp_bdry_census2010counties_ctus.zip\",\"r\") as zip_ref:\n",
    "    zip_ref.extractall()\n",
    "    zip_ref.close()"
   ]
  },
  {
   "cell_type": "code",
   "execution_count": 3,
   "id": "026e58d7-a1f5-4232-9e55-7c258f6065c1",
   "metadata": {},
   "outputs": [],
   "source": [
    "# Read, Select, and Save Data\n",
    "\n",
    "metro = gpd.read_file(r\"Census2010CTUs.shp\") # Read data to geodataframe\n",
    "\n",
    "mpls = metro[metro['CTU_NAME']=='Minneapolis'] # Select Minneapolis' shape\n",
    "\n",
    "mpls.to_file(r'mpls_boundary.shp') # Save file"
   ]
  },
  {
   "cell_type": "code",
   "execution_count": 4,
   "id": "ed39f351-a234-46a9-977d-10be712602f3",
   "metadata": {},
   "outputs": [],
   "source": [
    "# Remove downloaded files\n",
    "\n",
    "cwd = os.getcwd() # Current Working Directory\n",
    "\n",
    "for root, dirs, files in os.walk(cwd): # Loop over files & folders\n",
    "    for file in files:\n",
    "        if 'mpls' in file or file == 'DefineBoundary.ipynb': # Keep new shapefile & notebook\n",
    "            pass\n",
    "        else:\n",
    "            os.remove(file) # Remove all others\n",
    "    for folder in dirs:\n",
    "        shutil.rmtree(cwd+ '\\\\' + folder) # Remove folders"
   ]
  },
  {
   "cell_type": "code",
   "execution_count": null,
   "id": "5ef59146-bbca-4218-86e7-410f68aab00d",
   "metadata": {},
   "outputs": [],
   "source": []
  }
 ],
 "metadata": {
  "kernelspec": {
   "display_name": "Python 3 (ipykernel)",
   "language": "python",
   "name": "python3"
  },
  "language_info": {
   "codemirror_mode": {
    "name": "ipython",
    "version": 3
   },
   "file_extension": ".py",
   "mimetype": "text/x-python",
   "name": "python",
   "nbconvert_exporter": "python",
   "pygments_lexer": "ipython3",
   "version": "3.7.11"
  }
 },
 "nbformat": 4,
 "nbformat_minor": 5
}
