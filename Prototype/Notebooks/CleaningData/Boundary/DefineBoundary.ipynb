{
 "cells": [
  {
   "cell_type": "markdown",
   "id": "581def9c-63aa-41af-a90a-ba4c5f3fe1c8",
   "metadata": {
    "tags": []
   },
   "source": [
    "# Define Spatial Extent of Project\n",
    "\n",
    "This notebook retrieves Metropolitan Council's 2010 boundaries of the Twin Cities area and extracts the Minneapolis's boundary. The boundary is saved as a zip of the shapefile and a json.\n",
    "\n",
    "Output Coordinate Reference System: UTM 15N - EPSG:26915 **or** WGS84 - EPSG:4326\n",
    "\n",
    "*WGS84 was added 3/25/2022 for compatibility with Folium (Leaflet) interactive webmapping*\n",
    "\n",
    "Source: https://gisdata.mn.gov/dataset/us-mn-state-metc-bdry-census2010counties-ctus\n",
    "\n",
    "Metadata: https://resources.gisdata.mn.gov/pub/gdrs/data/pub/us_mn_state_metc/bdry_census2010counties_ctus/metadata/metadata.html\n"
   ]
  },
  {
   "cell_type": "code",
   "execution_count": 1,
   "id": "1015be7c-e47c-4fd0-b338-3420453a14e0",
   "metadata": {},
   "outputs": [],
   "source": [
    "### Import Packages\n",
    "\n",
    "# File manipulation\n",
    "\n",
    "import os # For working with Operating System\n",
    "from sys import platform # Diagnose operating system\n",
    "import shutil # For deleting folders\n",
    "import urllib # For accessing websites\n",
    "import zipfile # For extracting from Zipfiles\n",
    "from io import BytesIO # For reading bytes objects\n",
    "\n",
    "# Analysis\n",
    "\n",
    "import geopandas as gpd # Spatial Data Manipulation\n",
    "\n",
    "cwd = os.getcwd() # Current Working Directory\n"
   ]
  },
  {
   "cell_type": "code",
   "execution_count": 2,
   "id": "1f2db80e-b50b-4fe4-a68d-1865fad3e2e1",
   "metadata": {},
   "outputs": [],
   "source": [
    "### Definitions\n",
    "\n",
    "files_before = os.listdir() # Take note of filenames in current working directory so they won't be deleted in the end\n",
    "\n",
    "# Forward or back slashs for filepaths? <- Not sure here. Only know Windows & Linux\n",
    "\n",
    "if platform == \"linux\" or platform == \"linux2\":\n",
    "    slash = '/'\n",
    "elif platform == 'win32':\n",
    "    slash = '\\\\'\n",
    "\n",
    "def extract_zip_from_url(urls):\n",
    "    '''Extract a zipfile from the internet and unpack it in working directory.\n",
    "    Takes a single url (string) or a list of urls.'''\n",
    "    \n",
    "    if type(urls) == str: # Single url\n",
    "        url = urls\n",
    "        response = urllib.request.urlopen(url) # Get a response\n",
    "        zip_folder = zipfile.ZipFile(BytesIO(response.read())) # Read Response\n",
    "        zip_folder.extractall() # Extract files\n",
    "    \n",
    "    elif type(urls) == list: # List of urls\n",
    "        for url in urls:\n",
    "            response = urllib.request.urlopen(url) # Get a response\n",
    "            zip_folder = zipfile.ZipFile(BytesIO(response.read())) # Read Response\n",
    "            zip_folder.extractall() # Extract files\n",
    "            \n",
    "    else:\n",
    "        print('Error: Invalid Input')"
   ]
  },
  {
   "cell_type": "code",
   "execution_count": 3,
   "id": "c35f7d32-b7cc-49b9-b9d4-899110ad43bb",
   "metadata": {},
   "outputs": [],
   "source": [
    "# Download Data\n",
    "\n",
    "## Twin Cities Metro Boundaries - Downloaded from MN GeospatialCommons gisdata.mn.gov  (~ 5mb)\n",
    "\n",
    "url = \"https://resources.gisdata.mn.gov/pub/gdrs/data/pub/us_mn_state_metc/bdry_census2010counties_ctus/shp_bdry_census2010counties_ctus.zip\"\n",
    "\n",
    "extract_zip_from_url(url)"
   ]
  },
  {
   "cell_type": "code",
   "execution_count": 7,
   "id": "026e58d7-a1f5-4232-9e55-7c258f6065c1",
   "metadata": {},
   "outputs": [
    {
     "data": {
      "text/plain": [
       "<AxesSubplot:>"
      ]
     },
     "execution_count": 7,
     "metadata": {},
     "output_type": "execute_result"
    },
    {
     "data": {
      "image/png": "[encoded data removed]",
      "text/plain": [
       "<Figure size 432x288 with 1 Axes>"
      ]
     },
     "metadata": {
      "needs_background": "light"
     },
     "output_type": "display_data"
    }
   ],
   "source": [
    "# Read, Select, and Show Data\n",
    "\n",
    "metro = gpd.read_file(r\"Census2010CTUs.shp\") # Read data to geodataframe\n",
    "\n",
    "mpls = metro[metro['CTU_NAME']=='Minneapolis'] # Select Minneapolis' shape\n",
    "\n",
    "mpls.plot()"
   ]
  },
  {
   "cell_type": "code",
   "execution_count": 5,
   "id": "5ef59146-bbca-4218-86e7-410f68aab00d",
   "metadata": {},
   "outputs": [],
   "source": [
    "# Save File as Zip\n",
    "\n",
    "# UTM 15N\n",
    "\n",
    "mpls.to_file(r'mpls_boundary.shp') # Save shapefile\n",
    "\n",
    "cwd = os.getcwd() # Current Working Directory\n",
    "\n",
    "mpls_boundary = zipfile.ZipFile(cwd + slash + 'mpls_boundary.zip', 'w', zipfile.ZIP_DEFLATED) # Initialize folder\n",
    "\n",
    "for root, dirs, files in os.walk(cwd):\n",
    "    for file in files:\n",
    "        if 'mpls_boundary' in file and file != 'mpls_boundary.zip': # Locate Shapefiles\n",
    "            mpls_boundary.write(file) # Write to Zip\n",
    "            \n",
    "mpls_boundary.close() # Close zip\n",
    "\n",
    "mpls.to_file(r'mpls_boundary.geojson', driver='GeoJSON') # Save geojson"
   ]
  },
  {
   "cell_type": "code",
   "execution_count": 8,
   "id": "6c150216-9df0-45f3-9854-d15f5797144b",
   "metadata": {},
   "outputs": [],
   "source": [
    "# WGS 84 - For Folium (Leaflet) Compatability\n",
    "\n",
    "mpls_boundaryWGS84 = zipfile.ZipFile(cwd + slash + 'mpls_boundaryWGS84.zip', 'w', zipfile.ZIP_DEFLATED) # Initialize folder\n",
    "\n",
    "for root, dirs, files in os.walk(cwd):\n",
    "    for file in files:\n",
    "        if 'mpls_boundaryWGS84' in file and file != 'mpls_boundaryWGS84.zip': # Locate Shapefiles\n",
    "            mpls_boundaryWGS84.write(file) # Write to Zip\n",
    "            \n",
    "mpls_boundaryWGS84.close() # Close zip\n",
    "\n",
    "mpls.to_crs('EPSG:4326').to_file(r'mpls_boundaryWGS84.geojson', driver='GeoJSON') # Save geojson"
   ]
  },
  {
   "cell_type": "code",
   "execution_count": null,
   "id": "59567031-947f-43b7-9e06-52bde2102679",
   "metadata": {},
   "outputs": [],
   "source": []
  }
 ],
 "metadata": {
  "kernelspec": {
   "display_name": "Python 3 (ipykernel)",
   "language": "python",
   "name": "python3"
  },
  "language_info": {
   "codemirror_mode": {
    "name": "ipython",
    "version": 3
   },
   "file_extension": ".py",
   "mimetype": "text/x-python",
   "name": "python",
   "nbconvert_exporter": "python",
   "pygments_lexer": "ipython3",
   "version": "3.7.11"
  }
 },
 "nbformat": 4,
 "nbformat_minor": 5
}
