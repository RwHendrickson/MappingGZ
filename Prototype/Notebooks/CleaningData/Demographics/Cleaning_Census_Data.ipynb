{
 "cells": [
  {
   "cell_type": "markdown",
   "id": "9b6d1623-61bd-471d-86cc-dcf173449377",
   "metadata": {},
   "source": [
    "# Census Data\n",
    "\n",
    "All data is from a census data package supported on [GitHub](https://github.com/jtleider/censusdata). Unfortunatley this may be a short-term solution because the package is no longer being supported on GitHub so we may have to find a more long-term solution in the future. For this project, we are using basic demographics so I have found data on sex, age, race, employment status, number of housing units, income, language spoken at home, heatlh insurance status, poverty status. All data is at the census tract level and is either the total count or the average for the tract. The data used for the project is the ACS 5-year from 2018."
   ]
  },
  {
   "cell_type": "markdown",
   "id": "eed1fc4c-39b6-4b47-b21c-81d786b17ea8",
   "metadata": {},
   "source": [
    "## Importing CensusData and Packages"
   ]
  },
  {
   "cell_type": "code",
   "execution_count": 1,
   "id": "42eca3a5-7e88-4c7e-93f6-0a3c6bce644b",
   "metadata": {
    "collapsed": true,
    "jupyter": {
     "outputs_hidden": true
    },
    "tags": []
   },
   "outputs": [
    {
     "name": "stdout",
     "output_type": "stream",
     "text": [
      "Requirement already satisfied: censusdata in c:\\users\\hal\\miniconda3\\envs\\geog5531\\lib\\site-packages (1.15.post1)\n",
      "Requirement already satisfied: requests in c:\\users\\hal\\miniconda3\\envs\\geog5531\\lib\\site-packages (from censusdata) (2.27.1)\n",
      "Requirement already satisfied: pandas in c:\\users\\hal\\miniconda3\\envs\\geog5531\\lib\\site-packages (from censusdata) (1.3.5)\n",
      "Requirement already satisfied: python-dateutil>=2.7.3 in c:\\users\\hal\\miniconda3\\envs\\geog5531\\lib\\site-packages (from pandas->censusdata) (2.8.2)\n",
      "Requirement already satisfied: numpy>=1.17.3 in c:\\users\\hal\\miniconda3\\envs\\geog5531\\lib\\site-packages (from pandas->censusdata) (1.21.5)\n",
      "Requirement already satisfied: pytz>=2017.3 in c:\\users\\hal\\miniconda3\\envs\\geog5531\\lib\\site-packages (from pandas->censusdata) (2021.3)\n",
      "Requirement already satisfied: six>=1.5 in c:\\users\\hal\\miniconda3\\envs\\geog5531\\lib\\site-packages (from python-dateutil>=2.7.3->pandas->censusdata) (1.16.0)\n",
      "Requirement already satisfied: urllib3<1.27,>=1.21.1 in c:\\users\\hal\\miniconda3\\envs\\geog5531\\lib\\site-packages (from requests->censusdata) (1.26.8)\n",
      "Requirement already satisfied: idna<4,>=2.5 in c:\\users\\hal\\miniconda3\\envs\\geog5531\\lib\\site-packages (from requests->censusdata) (3.3)\n",
      "Requirement already satisfied: charset-normalizer~=2.0.0 in c:\\users\\hal\\miniconda3\\envs\\geog5531\\lib\\site-packages (from requests->censusdata) (2.0.12)\n",
      "Requirement already satisfied: certifi>=2017.4.17 in c:\\users\\hal\\miniconda3\\envs\\geog5531\\lib\\site-packages (from requests->censusdata) (2021.10.8)\n",
      "Note: you may need to restart the kernel to use updated packages.\n"
     ]
    }
   ],
   "source": [
    "pip install censusdata"
   ]
  },
  {
   "cell_type": "code",
   "execution_count": 2,
   "id": "465493fb-935e-4dd8-ae77-56d60a7b81e4",
   "metadata": {},
   "outputs": [],
   "source": [
    "import pandas as pd\n",
    "import censusdata\n",
    "import geopandas as gpd\n",
    "from geopandas import GeoDataFrame"
   ]
  },
  {
   "cell_type": "markdown",
   "id": "383c5faf-1743-41a5-9c15-4cbf2153b0b9",
   "metadata": {},
   "source": [
    "## Searching State & County Numbers"
   ]
  },
  {
   "cell_type": "code",
   "execution_count": 3,
   "id": "b0111e31-db36-478d-8440-c1bf21e96e4e",
   "metadata": {},
   "outputs": [
    {
     "name": "stdout",
     "output_type": "stream",
     "text": [
      "Summary level: 040, state:27\n"
     ]
    }
   ],
   "source": [
    "#finding state number\n",
    "states = censusdata.geographies(censusdata.censusgeo([('state', '*')]), 'acs5', 2018)\n",
    "print(states['Minnesota'])"
   ]
  },
  {
   "cell_type": "code",
   "execution_count": 4,
   "id": "6a62ff5d-7303-4c4f-a894-16fac389248b",
   "metadata": {},
   "outputs": [
    {
     "name": "stdout",
     "output_type": "stream",
     "text": [
      "Summary level: 050, state:27> county:053\n"
     ]
    }
   ],
   "source": [
    "#finding county number\n",
    "counties = censusdata.geographies(censusdata.censusgeo([('state', '27'), ('county', '*')]), 'acs5', 2018)\n",
    "print(counties['Hennepin County, Minnesota'])"
   ]
  },
  {
   "cell_type": "markdown",
   "id": "d1c3d671-67fe-4f0b-955e-0f3f7ac8fd0d",
   "metadata": {},
   "source": [
    "## Searching Census Tables\n",
    "\n",
    "Table codes were found on the Census Data Tables [site](https://data.census.gov/cedsci/all?d=ACS%205-Year%20Estimates%20Detailed%20Tables)."
   ]
  },
  {
   "cell_type": "code",
   "execution_count": 5,
   "id": "fcf3e13b-7d16-43e3-8eb5-4683b7d9760f",
   "metadata": {
    "collapsed": true,
    "jupyter": {
     "outputs_hidden": true
    },
    "tags": []
   },
   "outputs": [
    {
     "name": "stdout",
     "output_type": "stream",
     "text": [
      "Variable     | Table                          | Label                                                    | Type \n",
      "-------------------------------------------------------------------------------------------------------------------\n",
      "B01001_001E  | SEX BY AGE                     | !! Estimate Total                                        | int  \n",
      "B01001_002E  | SEX BY AGE                     | !! !! Estimate Total Male                                | int  \n",
      "B01001_003E  | SEX BY AGE                     | !! !! !! Estimate Total Male Under 5 years               | int  \n",
      "B01001_004E  | SEX BY AGE                     | !! !! !! Estimate Total Male 5 to 9 years                | int  \n",
      "B01001_005E  | SEX BY AGE                     | !! !! !! Estimate Total Male 10 to 14 years              | int  \n",
      "B01001_006E  | SEX BY AGE                     | !! !! !! Estimate Total Male 15 to 17 years              | int  \n",
      "B01001_007E  | SEX BY AGE                     | !! !! !! Estimate Total Male 18 and 19 years             | int  \n",
      "B01001_008E  | SEX BY AGE                     | !! !! !! Estimate Total Male 20 years                    | int  \n",
      "B01001_009E  | SEX BY AGE                     | !! !! !! Estimate Total Male 21 years                    | int  \n",
      "B01001_010E  | SEX BY AGE                     | !! !! !! Estimate Total Male 22 to 24 years              | int  \n",
      "B01001_011E  | SEX BY AGE                     | !! !! !! Estimate Total Male 25 to 29 years              | int  \n",
      "B01001_012E  | SEX BY AGE                     | !! !! !! Estimate Total Male 30 to 34 years              | int  \n",
      "B01001_013E  | SEX BY AGE                     | !! !! !! Estimate Total Male 35 to 39 years              | int  \n",
      "B01001_014E  | SEX BY AGE                     | !! !! !! Estimate Total Male 40 to 44 years              | int  \n",
      "B01001_015E  | SEX BY AGE                     | !! !! !! Estimate Total Male 45 to 49 years              | int  \n",
      "B01001_016E  | SEX BY AGE                     | !! !! !! Estimate Total Male 50 to 54 years              | int  \n",
      "B01001_017E  | SEX BY AGE                     | !! !! !! Estimate Total Male 55 to 59 years              | int  \n",
      "B01001_018E  | SEX BY AGE                     | !! !! !! Estimate Total Male 60 and 61 years             | int  \n",
      "B01001_019E  | SEX BY AGE                     | !! !! !! Estimate Total Male 62 to 64 years              | int  \n",
      "B01001_020E  | SEX BY AGE                     | !! !! !! Estimate Total Male 65 and 66 years             | int  \n",
      "B01001_021E  | SEX BY AGE                     | !! !! !! Estimate Total Male 67 to 69 years              | int  \n",
      "B01001_022E  | SEX BY AGE                     | !! !! !! Estimate Total Male 70 to 74 years              | int  \n",
      "B01001_023E  | SEX BY AGE                     | !! !! !! Estimate Total Male 75 to 79 years              | int  \n",
      "B01001_024E  | SEX BY AGE                     | !! !! !! Estimate Total Male 80 to 84 years              | int  \n",
      "B01001_025E  | SEX BY AGE                     | !! !! !! Estimate Total Male 85 years and over           | int  \n",
      "B01001_026E  | SEX BY AGE                     | !! !! Estimate Total Female                              | int  \n",
      "B01001_027E  | SEX BY AGE                     | !! !! !! Estimate Total Female Under 5 years             | int  \n",
      "B01001_028E  | SEX BY AGE                     | !! !! !! Estimate Total Female 5 to 9 years              | int  \n",
      "B01001_029E  | SEX BY AGE                     | !! !! !! Estimate Total Female 10 to 14 years            | int  \n",
      "B01001_030E  | SEX BY AGE                     | !! !! !! Estimate Total Female 15 to 17 years            | int  \n",
      "B01001_031E  | SEX BY AGE                     | !! !! !! Estimate Total Female 18 and 19 years           | int  \n",
      "B01001_032E  | SEX BY AGE                     | !! !! !! Estimate Total Female 20 years                  | int  \n",
      "B01001_033E  | SEX BY AGE                     | !! !! !! Estimate Total Female 21 years                  | int  \n",
      "B01001_034E  | SEX BY AGE                     | !! !! !! Estimate Total Female 22 to 24 years            | int  \n",
      "B01001_035E  | SEX BY AGE                     | !! !! !! Estimate Total Female 25 to 29 years            | int  \n",
      "B01001_036E  | SEX BY AGE                     | !! !! !! Estimate Total Female 30 to 34 years            | int  \n",
      "B01001_037E  | SEX BY AGE                     | !! !! !! Estimate Total Female 35 to 39 years            | int  \n",
      "B01001_038E  | SEX BY AGE                     | !! !! !! Estimate Total Female 40 to 44 years            | int  \n",
      "B01001_039E  | SEX BY AGE                     | !! !! !! Estimate Total Female 45 to 49 years            | int  \n",
      "B01001_040E  | SEX BY AGE                     | !! !! !! Estimate Total Female 50 to 54 years            | int  \n",
      "B01001_041E  | SEX BY AGE                     | !! !! !! Estimate Total Female 55 to 59 years            | int  \n",
      "B01001_042E  | SEX BY AGE                     | !! !! !! Estimate Total Female 60 and 61 years           | int  \n",
      "B01001_043E  | SEX BY AGE                     | !! !! !! Estimate Total Female 62 to 64 years            | int  \n",
      "B01001_044E  | SEX BY AGE                     | !! !! !! Estimate Total Female 65 and 66 years           | int  \n",
      "B01001_045E  | SEX BY AGE                     | !! !! !! Estimate Total Female 67 to 69 years            | int  \n",
      "B01001_046E  | SEX BY AGE                     | !! !! !! Estimate Total Female 70 to 74 years            | int  \n",
      "B01001_047E  | SEX BY AGE                     | !! !! !! Estimate Total Female 75 to 79 years            | int  \n",
      "B01001_048E  | SEX BY AGE                     | !! !! !! Estimate Total Female 80 to 84 years            | int  \n",
      "B01001_049E  | SEX BY AGE                     | !! !! !! Estimate Total Female 85 years and over         | int  \n",
      "-------------------------------------------------------------------------------------------------------------------\n"
     ]
    }
   ],
   "source": [
    "sex_by_age = censusdata.printtable(censusdata.censustable('acs5', 2018, 'B01001')) #age & sex data"
   ]
  },
  {
   "cell_type": "code",
   "execution_count": 6,
   "id": "abd32bd2-72de-490b-b1e8-1c5a2d446924",
   "metadata": {
    "collapsed": true,
    "jupyter": {
     "outputs_hidden": true
    },
    "tags": []
   },
   "outputs": [
    {
     "name": "stdout",
     "output_type": "stream",
     "text": [
      "Variable     | Table                          | Label                                                    | Type \n",
      "-------------------------------------------------------------------------------------------------------------------\n",
      "B02001_001E  | RACE                           | !! Estimate Total                                        | int  \n",
      "B02001_002E  | RACE                           | !! !! Estimate Total White alone                         | int  \n",
      "B02001_003E  | RACE                           | !! !! Estimate Total Black or African American alone     | int  \n",
      "B02001_004E  | RACE                           | !! !! Estimate Total American Indian and Alaska Native a | int  \n",
      "B02001_005E  | RACE                           | !! !! Estimate Total Asian alone                         | int  \n",
      "B02001_006E  | RACE                           | !! !! Estimate Total Native Hawaiian and Other Pacific I | int  \n",
      "B02001_007E  | RACE                           | !! !! Estimate Total Some other race alone               | int  \n",
      "B02001_008E  | RACE                           | !! !! Estimate Total Two or more races                   | int  \n",
      "B02001_009E  | RACE                           | !! !! !! Estimate Total Two or more races Two races incl | int  \n",
      "B02001_010E  | RACE                           | !! !! !! Estimate Total Two or more races Two races excl | int  \n",
      "-------------------------------------------------------------------------------------------------------------------\n"
     ]
    }
   ],
   "source": [
    "race = censusdata.printtable(censusdata.censustable('acs5', 2018, 'B02001')) #total race data"
   ]
  },
  {
   "cell_type": "code",
   "execution_count": 7,
   "id": "00701e9a-8113-446a-999c-3af747b56269",
   "metadata": {
    "collapsed": true,
    "jupyter": {
     "outputs_hidden": true
    },
    "tags": []
   },
   "outputs": [
    {
     "name": "stdout",
     "output_type": "stream",
     "text": [
      "Variable     | Table                          | Label                                                    | Type \n",
      "-------------------------------------------------------------------------------------------------------------------\n",
      "B23025_001E  | EMPLOYMENT STATUS FOR THE POPU | !! Estimate Total                                        | int  \n",
      "B23025_002E  | EMPLOYMENT STATUS FOR THE POPU | !! !! Estimate Total In labor force                      | int  \n",
      "B23025_003E  | EMPLOYMENT STATUS FOR THE POPU | !! !! !! Estimate Total In labor force Civilian labor fo | int  \n",
      "B23025_004E  | EMPLOYMENT STATUS FOR THE POPU | !! !! !! !! Estimate Total In labor force Civilian labor | int  \n",
      "B23025_005E  | EMPLOYMENT STATUS FOR THE POPU | !! !! !! !! Estimate Total In labor force Civilian labor | int  \n",
      "B23025_006E  | EMPLOYMENT STATUS FOR THE POPU | !! !! !! Estimate Total In labor force Armed Forces      | int  \n",
      "B23025_007E  | EMPLOYMENT STATUS FOR THE POPU | !! !! Estimate Total Not in labor force                  | int  \n",
      "-------------------------------------------------------------------------------------------------------------------\n"
     ]
    }
   ],
   "source": [
    "employment_status = censusdata.printtable(censusdata.censustable('acs5', 2018, 'B23025')) #total population and working population"
   ]
  },
  {
   "cell_type": "code",
   "execution_count": 8,
   "id": "b732513b-a8ac-4592-9a9b-65838fdc8348",
   "metadata": {
    "collapsed": true,
    "jupyter": {
     "outputs_hidden": true
    },
    "tags": []
   },
   "outputs": [
    {
     "name": "stdout",
     "output_type": "stream",
     "text": [
      "Variable     | Table                          | Label                                                    | Type \n",
      "-------------------------------------------------------------------------------------------------------------------\n",
      "B25001_001E  | HOUSING UNITS                  | !! Estimate Total                                        | int  \n",
      "-------------------------------------------------------------------------------------------------------------------\n"
     ]
    }
   ],
   "source": [
    "housing_units = censusdata.printtable(censusdata.censustable('acs5', 2018, 'B25001')) #number of housing units/tract"
   ]
  },
  {
   "cell_type": "code",
   "execution_count": 9,
   "id": "8fd0692b-7c43-4ba1-bdc4-1bb9f00188ad",
   "metadata": {
    "collapsed": true,
    "jupyter": {
     "outputs_hidden": true
    },
    "tags": []
   },
   "outputs": [
    {
     "name": "stdout",
     "output_type": "stream",
     "text": [
      "Variable     | Table                          | Label                                                    | Type \n",
      "-------------------------------------------------------------------------------------------------------------------\n",
      "B19301_001E  | PER CAPITA INCOME IN THE PAST  | !! Estimate Per capita income in the past 12 months (in  | int  \n",
      "-------------------------------------------------------------------------------------------------------------------\n"
     ]
    }
   ],
   "source": [
    "income = censusdata.printtable(censusdata.censustable('acs5', 2018, 'B19301')) #PER CAPITA INCOME IN THE PAST 12 MONTHS (IN 2020 INFLATION-ADJUSTED DOLLARS)"
   ]
  },
  {
   "cell_type": "code",
   "execution_count": 10,
   "id": "e64bc126-6163-44b3-a3de-10a1e0fd0364",
   "metadata": {
    "collapsed": true,
    "jupyter": {
     "outputs_hidden": true
    },
    "tags": []
   },
   "outputs": [
    {
     "name": "stdout",
     "output_type": "stream",
     "text": [
      "Variable     | Table                          | Label                                                    | Type \n",
      "-------------------------------------------------------------------------------------------------------------------\n",
      "B16007_001E  | AGE BY LANGUAGE SPOKEN AT HOME | !! Estimate Total                                        | int  \n",
      "B16007_002E  | AGE BY LANGUAGE SPOKEN AT HOME | !! !! Estimate Total 5 to 17 years                       | int  \n",
      "B16007_003E  | AGE BY LANGUAGE SPOKEN AT HOME | !! !! !! Estimate Total 5 to 17 years Speak only English | int  \n",
      "B16007_004E  | AGE BY LANGUAGE SPOKEN AT HOME | !! !! !! Estimate Total 5 to 17 years Speak Spanish      | int  \n",
      "B16007_005E  | AGE BY LANGUAGE SPOKEN AT HOME | !! !! !! Estimate Total 5 to 17 years Speak other Indo-E | int  \n",
      "B16007_006E  | AGE BY LANGUAGE SPOKEN AT HOME | !! !! !! Estimate Total 5 to 17 years Speak Asian and Pa | int  \n",
      "B16007_007E  | AGE BY LANGUAGE SPOKEN AT HOME | !! !! !! Estimate Total 5 to 17 years Speak other langua | int  \n",
      "B16007_008E  | AGE BY LANGUAGE SPOKEN AT HOME | !! !! Estimate Total 18 to 64 years                      | int  \n",
      "B16007_009E  | AGE BY LANGUAGE SPOKEN AT HOME | !! !! !! Estimate Total 18 to 64 years Speak only Englis | int  \n",
      "B16007_010E  | AGE BY LANGUAGE SPOKEN AT HOME | !! !! !! Estimate Total 18 to 64 years Speak Spanish     | int  \n",
      "B16007_011E  | AGE BY LANGUAGE SPOKEN AT HOME | !! !! !! Estimate Total 18 to 64 years Speak other Indo- | int  \n",
      "B16007_012E  | AGE BY LANGUAGE SPOKEN AT HOME | !! !! !! Estimate Total 18 to 64 years Speak Asian and P | int  \n",
      "B16007_013E  | AGE BY LANGUAGE SPOKEN AT HOME | !! !! !! Estimate Total 18 to 64 years Speak other langu | int  \n",
      "B16007_014E  | AGE BY LANGUAGE SPOKEN AT HOME | !! !! Estimate Total 65 years and over                   | int  \n",
      "B16007_015E  | AGE BY LANGUAGE SPOKEN AT HOME | !! !! !! Estimate Total 65 years and over Speak only Eng | int  \n",
      "B16007_016E  | AGE BY LANGUAGE SPOKEN AT HOME | !! !! !! Estimate Total 65 years and over Speak Spanish  | int  \n",
      "B16007_017E  | AGE BY LANGUAGE SPOKEN AT HOME | !! !! !! Estimate Total 65 years and over Speak other In | int  \n",
      "B16007_018E  | AGE BY LANGUAGE SPOKEN AT HOME | !! !! !! Estimate Total 65 years and over Speak Asian an | int  \n",
      "B16007_019E  | AGE BY LANGUAGE SPOKEN AT HOME | !! !! !! Estimate Total 65 years and over Speak other la | int  \n",
      "-------------------------------------------------------------------------------------------------------------------\n"
     ]
    }
   ],
   "source": [
    "language_athome = censusdata.printtable(censusdata.censustable('acs5', 2018, 'B16007')) #language spoken at home"
   ]
  },
  {
   "cell_type": "code",
   "execution_count": 11,
   "id": "1912fa8c-caa3-4c03-8c4f-c33fb84d3442",
   "metadata": {
    "collapsed": true,
    "jupyter": {
     "outputs_hidden": true
    },
    "tags": []
   },
   "outputs": [
    {
     "name": "stdout",
     "output_type": "stream",
     "text": [
      "Variable     | Table                          | Label                                                    | Type \n",
      "-------------------------------------------------------------------------------------------------------------------\n",
      "B27001_001E  | HEALTH INSURANCE COVERAGE STAT | !! Estimate Total                                        | int  \n",
      "B27001_002E  | HEALTH INSURANCE COVERAGE STAT | !! !! Estimate Total Male                                | int  \n",
      "B27001_003E  | HEALTH INSURANCE COVERAGE STAT | !! !! !! Estimate Total Male Under 6 years               | int  \n",
      "B27001_004E  | HEALTH INSURANCE COVERAGE STAT | !! !! !! !! Estimate Total Male Under 6 years With healt | int  \n",
      "B27001_005E  | HEALTH INSURANCE COVERAGE STAT | !! !! !! !! Estimate Total Male Under 6 years No health  | int  \n",
      "B27001_006E  | HEALTH INSURANCE COVERAGE STAT | !! !! !! Estimate Total Male 6 to 18 years               | int  \n",
      "B27001_007E  | HEALTH INSURANCE COVERAGE STAT | !! !! !! !! Estimate Total Male 6 to 18 years With healt | int  \n",
      "B27001_008E  | HEALTH INSURANCE COVERAGE STAT | !! !! !! !! Estimate Total Male 6 to 18 years No health  | int  \n",
      "B27001_009E  | HEALTH INSURANCE COVERAGE STAT | !! !! !! Estimate Total Male 19 to 25 years              | int  \n",
      "B27001_010E  | HEALTH INSURANCE COVERAGE STAT | !! !! !! !! Estimate Total Male 19 to 25 years With heal | int  \n",
      "B27001_011E  | HEALTH INSURANCE COVERAGE STAT | !! !! !! !! Estimate Total Male 19 to 25 years No health | int  \n",
      "B27001_012E  | HEALTH INSURANCE COVERAGE STAT | !! !! !! Estimate Total Male 26 to 34 years              | int  \n",
      "B27001_013E  | HEALTH INSURANCE COVERAGE STAT | !! !! !! !! Estimate Total Male 26 to 34 years With heal | int  \n",
      "B27001_014E  | HEALTH INSURANCE COVERAGE STAT | !! !! !! !! Estimate Total Male 26 to 34 years No health | int  \n",
      "B27001_015E  | HEALTH INSURANCE COVERAGE STAT | !! !! !! Estimate Total Male 35 to 44 years              | int  \n",
      "B27001_016E  | HEALTH INSURANCE COVERAGE STAT | !! !! !! !! Estimate Total Male 35 to 44 years With heal | int  \n",
      "B27001_017E  | HEALTH INSURANCE COVERAGE STAT | !! !! !! !! Estimate Total Male 35 to 44 years No health | int  \n",
      "B27001_018E  | HEALTH INSURANCE COVERAGE STAT | !! !! !! Estimate Total Male 45 to 54 years              | int  \n",
      "B27001_019E  | HEALTH INSURANCE COVERAGE STAT | !! !! !! !! Estimate Total Male 45 to 54 years With heal | int  \n",
      "B27001_020E  | HEALTH INSURANCE COVERAGE STAT | !! !! !! !! Estimate Total Male 45 to 54 years No health | int  \n",
      "B27001_021E  | HEALTH INSURANCE COVERAGE STAT | !! !! !! Estimate Total Male 55 to 64 years              | int  \n",
      "B27001_022E  | HEALTH INSURANCE COVERAGE STAT | !! !! !! !! Estimate Total Male 55 to 64 years With heal | int  \n",
      "B27001_023E  | HEALTH INSURANCE COVERAGE STAT | !! !! !! !! Estimate Total Male 55 to 64 years No health | int  \n",
      "B27001_024E  | HEALTH INSURANCE COVERAGE STAT | !! !! !! Estimate Total Male 65 to 74 years              | int  \n",
      "B27001_025E  | HEALTH INSURANCE COVERAGE STAT | !! !! !! !! Estimate Total Male 65 to 74 years With heal | int  \n",
      "B27001_026E  | HEALTH INSURANCE COVERAGE STAT | !! !! !! !! Estimate Total Male 65 to 74 years No health | int  \n",
      "B27001_027E  | HEALTH INSURANCE COVERAGE STAT | !! !! !! Estimate Total Male 75 years and over           | int  \n",
      "B27001_028E  | HEALTH INSURANCE COVERAGE STAT | !! !! !! !! Estimate Total Male 75 years and over With h | int  \n",
      "B27001_029E  | HEALTH INSURANCE COVERAGE STAT | !! !! !! !! Estimate Total Male 75 years and over No hea | int  \n",
      "B27001_030E  | HEALTH INSURANCE COVERAGE STAT | !! !! Estimate Total Female                              | int  \n",
      "B27001_031E  | HEALTH INSURANCE COVERAGE STAT | !! !! !! Estimate Total Female Under 6 years             | int  \n",
      "B27001_032E  | HEALTH INSURANCE COVERAGE STAT | !! !! !! !! Estimate Total Female Under 6 years With hea | int  \n",
      "B27001_033E  | HEALTH INSURANCE COVERAGE STAT | !! !! !! !! Estimate Total Female Under 6 years No healt | int  \n",
      "B27001_034E  | HEALTH INSURANCE COVERAGE STAT | !! !! !! Estimate Total Female 6 to 18 years             | int  \n",
      "B27001_035E  | HEALTH INSURANCE COVERAGE STAT | !! !! !! !! Estimate Total Female 6 to 18 years With hea | int  \n",
      "B27001_036E  | HEALTH INSURANCE COVERAGE STAT | !! !! !! !! Estimate Total Female 6 to 18 years No healt | int  \n",
      "B27001_037E  | HEALTH INSURANCE COVERAGE STAT | !! !! !! Estimate Total Female 19 to 25 years            | int  \n",
      "B27001_038E  | HEALTH INSURANCE COVERAGE STAT | !! !! !! !! Estimate Total Female 19 to 25 years With he | int  \n",
      "B27001_039E  | HEALTH INSURANCE COVERAGE STAT | !! !! !! !! Estimate Total Female 19 to 25 years No heal | int  \n",
      "B27001_040E  | HEALTH INSURANCE COVERAGE STAT | !! !! !! Estimate Total Female 26 to 34 years            | int  \n",
      "B27001_041E  | HEALTH INSURANCE COVERAGE STAT | !! !! !! !! Estimate Total Female 26 to 34 years With he | int  \n",
      "B27001_042E  | HEALTH INSURANCE COVERAGE STAT | !! !! !! !! Estimate Total Female 26 to 34 years No heal | int  \n",
      "B27001_043E  | HEALTH INSURANCE COVERAGE STAT | !! !! !! Estimate Total Female 35 to 44 years            | int  \n",
      "B27001_044E  | HEALTH INSURANCE COVERAGE STAT | !! !! !! !! Estimate Total Female 35 to 44 years With he | int  \n",
      "B27001_045E  | HEALTH INSURANCE COVERAGE STAT | !! !! !! !! Estimate Total Female 35 to 44 years No heal | int  \n",
      "B27001_046E  | HEALTH INSURANCE COVERAGE STAT | !! !! !! Estimate Total Female 45 to 54 years            | int  \n",
      "B27001_047E  | HEALTH INSURANCE COVERAGE STAT | !! !! !! !! Estimate Total Female 45 to 54 years With he | int  \n",
      "B27001_048E  | HEALTH INSURANCE COVERAGE STAT | !! !! !! !! Estimate Total Female 45 to 54 years No heal | int  \n",
      "B27001_049E  | HEALTH INSURANCE COVERAGE STAT | !! !! !! Estimate Total Female 55 to 64 years            | int  \n",
      "B27001_050E  | HEALTH INSURANCE COVERAGE STAT | !! !! !! !! Estimate Total Female 55 to 64 years With he | int  \n",
      "B27001_051E  | HEALTH INSURANCE COVERAGE STAT | !! !! !! !! Estimate Total Female 55 to 64 years No heal | int  \n",
      "B27001_052E  | HEALTH INSURANCE COVERAGE STAT | !! !! !! Estimate Total Female 65 to 74 years            | int  \n",
      "B27001_053E  | HEALTH INSURANCE COVERAGE STAT | !! !! !! !! Estimate Total Female 65 to 74 years With he | int  \n",
      "B27001_054E  | HEALTH INSURANCE COVERAGE STAT | !! !! !! !! Estimate Total Female 65 to 74 years No heal | int  \n",
      "B27001_055E  | HEALTH INSURANCE COVERAGE STAT | !! !! !! Estimate Total Female 75 years and over         | int  \n",
      "B27001_056E  | HEALTH INSURANCE COVERAGE STAT | !! !! !! !! Estimate Total Female 75 years and over With | int  \n",
      "B27001_057E  | HEALTH INSURANCE COVERAGE STAT | !! !! !! !! Estimate Total Female 75 years and over No h | int  \n",
      "-------------------------------------------------------------------------------------------------------------------\n"
     ]
    }
   ],
   "source": [
    "health_insurance = censusdata.printtable(censusdata.censustable('acs5', 2018, 'B27001'))"
   ]
  },
  {
   "cell_type": "code",
   "execution_count": 12,
   "id": "fd8112b3-cd6b-4ba3-a24d-744d2e01242b",
   "metadata": {
    "collapsed": true,
    "jupyter": {
     "outputs_hidden": true
    },
    "tags": []
   },
   "outputs": [
    {
     "name": "stdout",
     "output_type": "stream",
     "text": [
      "Variable     | Table                          | Label                                                    | Type \n",
      "-------------------------------------------------------------------------------------------------------------------\n",
      "B17001_001E  | POVERTY STATUS IN THE PAST 12  | !! Estimate Total                                        | int  \n",
      "B17001_002E  | POVERTY STATUS IN THE PAST 12  | !! !! Estimate Total Income in the past 12 months below  | int  \n",
      "B17001_003E  | POVERTY STATUS IN THE PAST 12  | !! !! !! Estimate Total Income in the past 12 months bel | int  \n",
      "B17001_004E  | POVERTY STATUS IN THE PAST 12  | !! !! !! !! Estimate Total Income in the past 12 months  | int  \n",
      "B17001_005E  | POVERTY STATUS IN THE PAST 12  | !! !! !! !! Estimate Total Income in the past 12 months  | int  \n",
      "B17001_006E  | POVERTY STATUS IN THE PAST 12  | !! !! !! !! Estimate Total Income in the past 12 months  | int  \n",
      "B17001_007E  | POVERTY STATUS IN THE PAST 12  | !! !! !! !! Estimate Total Income in the past 12 months  | int  \n",
      "B17001_008E  | POVERTY STATUS IN THE PAST 12  | !! !! !! !! Estimate Total Income in the past 12 months  | int  \n",
      "B17001_009E  | POVERTY STATUS IN THE PAST 12  | !! !! !! !! Estimate Total Income in the past 12 months  | int  \n",
      "B17001_010E  | POVERTY STATUS IN THE PAST 12  | !! !! !! !! Estimate Total Income in the past 12 months  | int  \n",
      "B17001_011E  | POVERTY STATUS IN THE PAST 12  | !! !! !! !! Estimate Total Income in the past 12 months  | int  \n",
      "B17001_012E  | POVERTY STATUS IN THE PAST 12  | !! !! !! !! Estimate Total Income in the past 12 months  | int  \n",
      "B17001_013E  | POVERTY STATUS IN THE PAST 12  | !! !! !! !! Estimate Total Income in the past 12 months  | int  \n",
      "B17001_014E  | POVERTY STATUS IN THE PAST 12  | !! !! !! !! Estimate Total Income in the past 12 months  | int  \n",
      "B17001_015E  | POVERTY STATUS IN THE PAST 12  | !! !! !! !! Estimate Total Income in the past 12 months  | int  \n",
      "B17001_016E  | POVERTY STATUS IN THE PAST 12  | !! !! !! !! Estimate Total Income in the past 12 months  | int  \n",
      "B17001_017E  | POVERTY STATUS IN THE PAST 12  | !! !! !! Estimate Total Income in the past 12 months bel | int  \n",
      "B17001_018E  | POVERTY STATUS IN THE PAST 12  | !! !! !! !! Estimate Total Income in the past 12 months  | int  \n",
      "B17001_019E  | POVERTY STATUS IN THE PAST 12  | !! !! !! !! Estimate Total Income in the past 12 months  | int  \n",
      "B17001_020E  | POVERTY STATUS IN THE PAST 12  | !! !! !! !! Estimate Total Income in the past 12 months  | int  \n",
      "B17001_021E  | POVERTY STATUS IN THE PAST 12  | !! !! !! !! Estimate Total Income in the past 12 months  | int  \n",
      "B17001_022E  | POVERTY STATUS IN THE PAST 12  | !! !! !! !! Estimate Total Income in the past 12 months  | int  \n",
      "B17001_023E  | POVERTY STATUS IN THE PAST 12  | !! !! !! !! Estimate Total Income in the past 12 months  | int  \n",
      "B17001_024E  | POVERTY STATUS IN THE PAST 12  | !! !! !! !! Estimate Total Income in the past 12 months  | int  \n",
      "B17001_025E  | POVERTY STATUS IN THE PAST 12  | !! !! !! !! Estimate Total Income in the past 12 months  | int  \n",
      "B17001_026E  | POVERTY STATUS IN THE PAST 12  | !! !! !! !! Estimate Total Income in the past 12 months  | int  \n",
      "B17001_027E  | POVERTY STATUS IN THE PAST 12  | !! !! !! !! Estimate Total Income in the past 12 months  | int  \n",
      "B17001_028E  | POVERTY STATUS IN THE PAST 12  | !! !! !! !! Estimate Total Income in the past 12 months  | int  \n",
      "B17001_029E  | POVERTY STATUS IN THE PAST 12  | !! !! !! !! Estimate Total Income in the past 12 months  | int  \n",
      "B17001_030E  | POVERTY STATUS IN THE PAST 12  | !! !! !! !! Estimate Total Income in the past 12 months  | int  \n",
      "B17001_031E  | POVERTY STATUS IN THE PAST 12  | !! !! Estimate Total Income in the past 12 months at or  | int  \n",
      "B17001_032E  | POVERTY STATUS IN THE PAST 12  | !! !! !! Estimate Total Income in the past 12 months at  | int  \n",
      "B17001_033E  | POVERTY STATUS IN THE PAST 12  | !! !! !! !! Estimate Total Income in the past 12 months  | int  \n",
      "B17001_034E  | POVERTY STATUS IN THE PAST 12  | !! !! !! !! Estimate Total Income in the past 12 months  | int  \n",
      "B17001_035E  | POVERTY STATUS IN THE PAST 12  | !! !! !! !! Estimate Total Income in the past 12 months  | int  \n",
      "B17001_036E  | POVERTY STATUS IN THE PAST 12  | !! !! !! !! Estimate Total Income in the past 12 months  | int  \n",
      "B17001_037E  | POVERTY STATUS IN THE PAST 12  | !! !! !! !! Estimate Total Income in the past 12 months  | int  \n",
      "B17001_038E  | POVERTY STATUS IN THE PAST 12  | !! !! !! !! Estimate Total Income in the past 12 months  | int  \n",
      "B17001_039E  | POVERTY STATUS IN THE PAST 12  | !! !! !! !! Estimate Total Income in the past 12 months  | int  \n",
      "B17001_040E  | POVERTY STATUS IN THE PAST 12  | !! !! !! !! Estimate Total Income in the past 12 months  | int  \n",
      "B17001_041E  | POVERTY STATUS IN THE PAST 12  | !! !! !! !! Estimate Total Income in the past 12 months  | int  \n",
      "B17001_042E  | POVERTY STATUS IN THE PAST 12  | !! !! !! !! Estimate Total Income in the past 12 months  | int  \n",
      "B17001_043E  | POVERTY STATUS IN THE PAST 12  | !! !! !! !! Estimate Total Income in the past 12 months  | int  \n",
      "B17001_044E  | POVERTY STATUS IN THE PAST 12  | !! !! !! !! Estimate Total Income in the past 12 months  | int  \n",
      "B17001_045E  | POVERTY STATUS IN THE PAST 12  | !! !! !! !! Estimate Total Income in the past 12 months  | int  \n",
      "B17001_046E  | POVERTY STATUS IN THE PAST 12  | !! !! !! Estimate Total Income in the past 12 months at  | int  \n",
      "B17001_047E  | POVERTY STATUS IN THE PAST 12  | !! !! !! !! Estimate Total Income in the past 12 months  | int  \n",
      "B17001_048E  | POVERTY STATUS IN THE PAST 12  | !! !! !! !! Estimate Total Income in the past 12 months  | int  \n",
      "B17001_049E  | POVERTY STATUS IN THE PAST 12  | !! !! !! !! Estimate Total Income in the past 12 months  | int  \n",
      "B17001_050E  | POVERTY STATUS IN THE PAST 12  | !! !! !! !! Estimate Total Income in the past 12 months  | int  \n",
      "B17001_051E  | POVERTY STATUS IN THE PAST 12  | !! !! !! !! Estimate Total Income in the past 12 months  | int  \n",
      "B17001_052E  | POVERTY STATUS IN THE PAST 12  | !! !! !! !! Estimate Total Income in the past 12 months  | int  \n",
      "B17001_053E  | POVERTY STATUS IN THE PAST 12  | !! !! !! !! Estimate Total Income in the past 12 months  | int  \n",
      "B17001_054E  | POVERTY STATUS IN THE PAST 12  | !! !! !! !! Estimate Total Income in the past 12 months  | int  \n",
      "B17001_055E  | POVERTY STATUS IN THE PAST 12  | !! !! !! !! Estimate Total Income in the past 12 months  | int  \n",
      "B17001_056E  | POVERTY STATUS IN THE PAST 12  | !! !! !! !! Estimate Total Income in the past 12 months  | int  \n",
      "B17001_057E  | POVERTY STATUS IN THE PAST 12  | !! !! !! !! Estimate Total Income in the past 12 months  | int  \n",
      "B17001_058E  | POVERTY STATUS IN THE PAST 12  | !! !! !! !! Estimate Total Income in the past 12 months  | int  \n",
      "B17001_059E  | POVERTY STATUS IN THE PAST 12  | !! !! !! !! Estimate Total Income in the past 12 months  | int  \n",
      "-------------------------------------------------------------------------------------------------------------------\n"
     ]
    }
   ],
   "source": [
    "poverty = censusdata.printtable(censusdata.censustable('acs5', 2018, 'B17001')) #last 12 months"
   ]
  },
  {
   "cell_type": "markdown",
   "id": "25ce223f-1a97-4ef4-97d7-453203d7dc3e",
   "metadata": {},
   "source": [
    "## Choosing Variables within Census Tables"
   ]
  },
  {
   "cell_type": "code",
   "execution_count": 13,
   "id": "33f77dea-c458-4461-b8ee-baeec2b87a35",
   "metadata": {
    "collapsed": true,
    "jupyter": {
     "outputs_hidden": true
    },
    "tags": []
   },
   "outputs": [
    {
     "data": {
      "text/html": [
       "<div>\n",
       "<style scoped>\n",
       "    .dataframe tbody tr th:only-of-type {\n",
       "        vertical-align: middle;\n",
       "    }\n",
       "\n",
       "    .dataframe tbody tr th {\n",
       "        vertical-align: top;\n",
       "    }\n",
       "\n",
       "    .dataframe thead th {\n",
       "        text-align: right;\n",
       "    }\n",
       "</style>\n",
       "<table border=\"1\" class=\"dataframe\">\n",
       "  <thead>\n",
       "    <tr style=\"text-align: right;\">\n",
       "      <th></th>\n",
       "      <th>Total_Count</th>\n",
       "      <th>Male_Count</th>\n",
       "      <th>Female_Count</th>\n",
       "    </tr>\n",
       "  </thead>\n",
       "  <tbody>\n",
       "    <tr>\n",
       "      <th>Census Tract 1048, Hennepin County, Minnesota: Summary level: 140, state:27&gt; county:053&gt; tract:104800</th>\n",
       "      <td>10065</td>\n",
       "      <td>4961</td>\n",
       "      <td>5104</td>\n",
       "    </tr>\n",
       "    <tr>\n",
       "      <th>Census Tract 1087, Hennepin County, Minnesota: Summary level: 140, state:27&gt; county:053&gt; tract:108700</th>\n",
       "      <td>3840</td>\n",
       "      <td>1992</td>\n",
       "      <td>1848</td>\n",
       "    </tr>\n",
       "    <tr>\n",
       "      <th>Census Tract 1056, Hennepin County, Minnesota: Summary level: 140, state:27&gt; county:053&gt; tract:105600</th>\n",
       "      <td>4467</td>\n",
       "      <td>2382</td>\n",
       "      <td>2085</td>\n",
       "    </tr>\n",
       "    <tr>\n",
       "      <th>Census Tract 1062, Hennepin County, Minnesota: Summary level: 140, state:27&gt; county:053&gt; tract:106200</th>\n",
       "      <td>4084</td>\n",
       "      <td>2265</td>\n",
       "      <td>1819</td>\n",
       "    </tr>\n",
       "    <tr>\n",
       "      <th>Census Tract 1086, Hennepin County, Minnesota: Summary level: 140, state:27&gt; county:053&gt; tract:108600</th>\n",
       "      <td>2998</td>\n",
       "      <td>1588</td>\n",
       "      <td>1410</td>\n",
       "    </tr>\n",
       "    <tr>\n",
       "      <th>...</th>\n",
       "      <td>...</td>\n",
       "      <td>...</td>\n",
       "      <td>...</td>\n",
       "    </tr>\n",
       "    <tr>\n",
       "      <th>Census Tract 265.10, Hennepin County, Minnesota: Summary level: 140, state:27&gt; county:053&gt; tract:026510</th>\n",
       "      <td>3579</td>\n",
       "      <td>1473</td>\n",
       "      <td>2106</td>\n",
       "    </tr>\n",
       "    <tr>\n",
       "      <th>Census Tract 265.12, Hennepin County, Minnesota: Summary level: 140, state:27&gt; county:053&gt; tract:026512</th>\n",
       "      <td>6212</td>\n",
       "      <td>3296</td>\n",
       "      <td>2916</td>\n",
       "    </tr>\n",
       "    <tr>\n",
       "      <th>Census Tract 267.07, Hennepin County, Minnesota: Summary level: 140, state:27&gt; county:053&gt; tract:026707</th>\n",
       "      <td>4805</td>\n",
       "      <td>2425</td>\n",
       "      <td>2380</td>\n",
       "    </tr>\n",
       "    <tr>\n",
       "      <th>Census Tract 210.02, Hennepin County, Minnesota: Summary level: 140, state:27&gt; county:053&gt; tract:021002</th>\n",
       "      <td>1959</td>\n",
       "      <td>897</td>\n",
       "      <td>1062</td>\n",
       "    </tr>\n",
       "    <tr>\n",
       "      <th>Census Tract 215.02, Hennepin County, Minnesota: Summary level: 140, state:27&gt; county:053&gt; tract:021502</th>\n",
       "      <td>3844</td>\n",
       "      <td>1705</td>\n",
       "      <td>2139</td>\n",
       "    </tr>\n",
       "  </tbody>\n",
       "</table>\n",
       "<p>299 rows × 3 columns</p>\n",
       "</div>"
      ],
      "text/plain": [
       "                                                    Total_Count  Male_Count  \\\n",
       "Census Tract 1048, Hennepin County, Minnesota: ...        10065        4961   \n",
       "Census Tract 1087, Hennepin County, Minnesota: ...         3840        1992   \n",
       "Census Tract 1056, Hennepin County, Minnesota: ...         4467        2382   \n",
       "Census Tract 1062, Hennepin County, Minnesota: ...         4084        2265   \n",
       "Census Tract 1086, Hennepin County, Minnesota: ...         2998        1588   \n",
       "...                                                         ...         ...   \n",
       "Census Tract 265.10, Hennepin County, Minnesota...         3579        1473   \n",
       "Census Tract 265.12, Hennepin County, Minnesota...         6212        3296   \n",
       "Census Tract 267.07, Hennepin County, Minnesota...         4805        2425   \n",
       "Census Tract 210.02, Hennepin County, Minnesota...         1959         897   \n",
       "Census Tract 215.02, Hennepin County, Minnesota...         3844        1705   \n",
       "\n",
       "                                                    Female_Count  \n",
       "Census Tract 1048, Hennepin County, Minnesota: ...          5104  \n",
       "Census Tract 1087, Hennepin County, Minnesota: ...          1848  \n",
       "Census Tract 1056, Hennepin County, Minnesota: ...          2085  \n",
       "Census Tract 1062, Hennepin County, Minnesota: ...          1819  \n",
       "Census Tract 1086, Hennepin County, Minnesota: ...          1410  \n",
       "...                                                          ...  \n",
       "Census Tract 265.10, Hennepin County, Minnesota...          2106  \n",
       "Census Tract 265.12, Hennepin County, Minnesota...          2916  \n",
       "Census Tract 267.07, Hennepin County, Minnesota...          2380  \n",
       "Census Tract 210.02, Hennepin County, Minnesota...          1062  \n",
       "Census Tract 215.02, Hennepin County, Minnesota...          2139  \n",
       "\n",
       "[299 rows x 3 columns]"
      ]
     },
     "execution_count": 13,
     "metadata": {},
     "output_type": "execute_result"
    }
   ],
   "source": [
    "sex_by_age_hennepin = censusdata.download('acs5', 2018,\n",
    "                             censusdata.censusgeo([('state', '27'), ('county', '053'), ('tract', '*')]),\n",
    "                             ['B01001_001E', 'B01001_002E', 'B01001_026E'])\n",
    "\n",
    "sex_by_age_tract = sex_by_age_hennepin.rename(columns={'B01001_001E': 'Total_Count', \n",
    "                                                    'B01001_002E': 'Male_Count', \n",
    "                                                    'B01001_026E': 'Female_Count'})\n",
    "sex_by_age_tract"
   ]
  },
  {
   "cell_type": "code",
   "execution_count": 14,
   "id": "b16d9a63-77db-4c26-9097-e632231cecd3",
   "metadata": {
    "collapsed": true,
    "jupyter": {
     "outputs_hidden": true
    },
    "tags": []
   },
   "outputs": [
    {
     "data": {
      "text/html": [
       "<div>\n",
       "<style scoped>\n",
       "    .dataframe tbody tr th:only-of-type {\n",
       "        vertical-align: middle;\n",
       "    }\n",
       "\n",
       "    .dataframe tbody tr th {\n",
       "        vertical-align: top;\n",
       "    }\n",
       "\n",
       "    .dataframe thead th {\n",
       "        text-align: right;\n",
       "    }\n",
       "</style>\n",
       "<table border=\"1\" class=\"dataframe\">\n",
       "  <thead>\n",
       "    <tr style=\"text-align: right;\">\n",
       "      <th></th>\n",
       "      <th>Total_Race</th>\n",
       "      <th>White_Count</th>\n",
       "      <th>Black_Count</th>\n",
       "      <th>AmIndian_Count</th>\n",
       "      <th>Asian_Count</th>\n",
       "      <th>NativeHI_Count</th>\n",
       "      <th>1RaceOther_Count</th>\n",
       "      <th>2RaceOther_Count</th>\n",
       "      <th>2+RaceInc_Count</th>\n",
       "      <th>2+RaceExc_Count</th>\n",
       "    </tr>\n",
       "  </thead>\n",
       "  <tbody>\n",
       "    <tr>\n",
       "      <th>Census Tract 1048, Hennepin County, Minnesota: Summary level: 140, state:27&gt; county:053&gt; tract:104800</th>\n",
       "      <td>10065</td>\n",
       "      <td>3219</td>\n",
       "      <td>5146</td>\n",
       "      <td>36</td>\n",
       "      <td>1156</td>\n",
       "      <td>0</td>\n",
       "      <td>112</td>\n",
       "      <td>396</td>\n",
       "      <td>0</td>\n",
       "      <td>396</td>\n",
       "    </tr>\n",
       "    <tr>\n",
       "      <th>Census Tract 1087, Hennepin County, Minnesota: Summary level: 140, state:27&gt; county:053&gt; tract:108700</th>\n",
       "      <td>3840</td>\n",
       "      <td>2485</td>\n",
       "      <td>674</td>\n",
       "      <td>116</td>\n",
       "      <td>148</td>\n",
       "      <td>28</td>\n",
       "      <td>79</td>\n",
       "      <td>310</td>\n",
       "      <td>11</td>\n",
       "      <td>299</td>\n",
       "    </tr>\n",
       "    <tr>\n",
       "      <th>Census Tract 1056, Hennepin County, Minnesota: Summary level: 140, state:27&gt; county:053&gt; tract:105600</th>\n",
       "      <td>4467</td>\n",
       "      <td>3521</td>\n",
       "      <td>486</td>\n",
       "      <td>5</td>\n",
       "      <td>272</td>\n",
       "      <td>0</td>\n",
       "      <td>40</td>\n",
       "      <td>143</td>\n",
       "      <td>2</td>\n",
       "      <td>141</td>\n",
       "    </tr>\n",
       "    <tr>\n",
       "      <th>Census Tract 1062, Hennepin County, Minnesota: Summary level: 140, state:27&gt; county:053&gt; tract:106200</th>\n",
       "      <td>4084</td>\n",
       "      <td>1468</td>\n",
       "      <td>2468</td>\n",
       "      <td>15</td>\n",
       "      <td>77</td>\n",
       "      <td>0</td>\n",
       "      <td>11</td>\n",
       "      <td>45</td>\n",
       "      <td>0</td>\n",
       "      <td>45</td>\n",
       "    </tr>\n",
       "    <tr>\n",
       "      <th>Census Tract 1086, Hennepin County, Minnesota: Summary level: 140, state:27&gt; county:053&gt; tract:108600</th>\n",
       "      <td>2998</td>\n",
       "      <td>1863</td>\n",
       "      <td>485</td>\n",
       "      <td>83</td>\n",
       "      <td>26</td>\n",
       "      <td>0</td>\n",
       "      <td>469</td>\n",
       "      <td>72</td>\n",
       "      <td>5</td>\n",
       "      <td>67</td>\n",
       "    </tr>\n",
       "  </tbody>\n",
       "</table>\n",
       "</div>"
      ],
      "text/plain": [
       "                                                    Total_Race  White_Count  \\\n",
       "Census Tract 1048, Hennepin County, Minnesota: ...       10065         3219   \n",
       "Census Tract 1087, Hennepin County, Minnesota: ...        3840         2485   \n",
       "Census Tract 1056, Hennepin County, Minnesota: ...        4467         3521   \n",
       "Census Tract 1062, Hennepin County, Minnesota: ...        4084         1468   \n",
       "Census Tract 1086, Hennepin County, Minnesota: ...        2998         1863   \n",
       "\n",
       "                                                    Black_Count  \\\n",
       "Census Tract 1048, Hennepin County, Minnesota: ...         5146   \n",
       "Census Tract 1087, Hennepin County, Minnesota: ...          674   \n",
       "Census Tract 1056, Hennepin County, Minnesota: ...          486   \n",
       "Census Tract 1062, Hennepin County, Minnesota: ...         2468   \n",
       "Census Tract 1086, Hennepin County, Minnesota: ...          485   \n",
       "\n",
       "                                                    AmIndian_Count  \\\n",
       "Census Tract 1048, Hennepin County, Minnesota: ...              36   \n",
       "Census Tract 1087, Hennepin County, Minnesota: ...             116   \n",
       "Census Tract 1056, Hennepin County, Minnesota: ...               5   \n",
       "Census Tract 1062, Hennepin County, Minnesota: ...              15   \n",
       "Census Tract 1086, Hennepin County, Minnesota: ...              83   \n",
       "\n",
       "                                                    Asian_Count  \\\n",
       "Census Tract 1048, Hennepin County, Minnesota: ...         1156   \n",
       "Census Tract 1087, Hennepin County, Minnesota: ...          148   \n",
       "Census Tract 1056, Hennepin County, Minnesota: ...          272   \n",
       "Census Tract 1062, Hennepin County, Minnesota: ...           77   \n",
       "Census Tract 1086, Hennepin County, Minnesota: ...           26   \n",
       "\n",
       "                                                    NativeHI_Count  \\\n",
       "Census Tract 1048, Hennepin County, Minnesota: ...               0   \n",
       "Census Tract 1087, Hennepin County, Minnesota: ...              28   \n",
       "Census Tract 1056, Hennepin County, Minnesota: ...               0   \n",
       "Census Tract 1062, Hennepin County, Minnesota: ...               0   \n",
       "Census Tract 1086, Hennepin County, Minnesota: ...               0   \n",
       "\n",
       "                                                    1RaceOther_Count  \\\n",
       "Census Tract 1048, Hennepin County, Minnesota: ...               112   \n",
       "Census Tract 1087, Hennepin County, Minnesota: ...                79   \n",
       "Census Tract 1056, Hennepin County, Minnesota: ...                40   \n",
       "Census Tract 1062, Hennepin County, Minnesota: ...                11   \n",
       "Census Tract 1086, Hennepin County, Minnesota: ...               469   \n",
       "\n",
       "                                                    2RaceOther_Count  \\\n",
       "Census Tract 1048, Hennepin County, Minnesota: ...               396   \n",
       "Census Tract 1087, Hennepin County, Minnesota: ...               310   \n",
       "Census Tract 1056, Hennepin County, Minnesota: ...               143   \n",
       "Census Tract 1062, Hennepin County, Minnesota: ...                45   \n",
       "Census Tract 1086, Hennepin County, Minnesota: ...                72   \n",
       "\n",
       "                                                    2+RaceInc_Count  \\\n",
       "Census Tract 1048, Hennepin County, Minnesota: ...                0   \n",
       "Census Tract 1087, Hennepin County, Minnesota: ...               11   \n",
       "Census Tract 1056, Hennepin County, Minnesota: ...                2   \n",
       "Census Tract 1062, Hennepin County, Minnesota: ...                0   \n",
       "Census Tract 1086, Hennepin County, Minnesota: ...                5   \n",
       "\n",
       "                                                    2+RaceExc_Count  \n",
       "Census Tract 1048, Hennepin County, Minnesota: ...              396  \n",
       "Census Tract 1087, Hennepin County, Minnesota: ...              299  \n",
       "Census Tract 1056, Hennepin County, Minnesota: ...              141  \n",
       "Census Tract 1062, Hennepin County, Minnesota: ...               45  \n",
       "Census Tract 1086, Hennepin County, Minnesota: ...               67  "
      ]
     },
     "execution_count": 14,
     "metadata": {},
     "output_type": "execute_result"
    }
   ],
   "source": [
    "race_hennepin = censusdata.download('acs5', 2018,\n",
    "                             censusdata.censusgeo([('state', '27'), ('county', '053'), ('tract', '*')]),\n",
    "                             ['B02001_001E', 'B02001_002E', 'B02001_003E', 'B02001_004E', 'B02001_005E', 'B02001_006E', 'B02001_007E', 'B02001_008E', 'B02001_009E', 'B02001_010E'])\n",
    "\n",
    "race_tract = race_hennepin.rename(columns={'B02001_001E': 'Total_Race', \n",
    "                                        'B02001_002E': 'White_Count', \n",
    "                                        'B02001_003E': 'Black_Count',\n",
    "                                        'B02001_004E': 'AmIndian_Count',\n",
    "                                        'B02001_005E': 'Asian_Count',\n",
    "                                        'B02001_006E': 'NativeHI_Count',\n",
    "                                        'B02001_007E': '1RaceOther_Count',\n",
    "                                        'B02001_008E': '2RaceOther_Count',\n",
    "                                        'B02001_009E': '2+RaceInc_Count',\n",
    "                                        'B02001_010E': '2+RaceExc_Count'})\n",
    "race_tract.head()"
   ]
  },
  {
   "cell_type": "code",
   "execution_count": 15,
   "id": "97669f87-8029-4619-8c10-264b0ab0c87b",
   "metadata": {
    "collapsed": true,
    "jupyter": {
     "outputs_hidden": true
    },
    "tags": []
   },
   "outputs": [
    {
     "data": {
      "text/html": [
       "<div>\n",
       "<style scoped>\n",
       "    .dataframe tbody tr th:only-of-type {\n",
       "        vertical-align: middle;\n",
       "    }\n",
       "\n",
       "    .dataframe tbody tr th {\n",
       "        vertical-align: top;\n",
       "    }\n",
       "\n",
       "    .dataframe thead th {\n",
       "        text-align: right;\n",
       "    }\n",
       "</style>\n",
       "<table border=\"1\" class=\"dataframe\">\n",
       "  <thead>\n",
       "    <tr style=\"text-align: right;\">\n",
       "      <th></th>\n",
       "      <th>TotalWorking_Pop</th>\n",
       "      <th>inLaborForce</th>\n",
       "    </tr>\n",
       "  </thead>\n",
       "  <tbody>\n",
       "    <tr>\n",
       "      <th>Census Tract 1048, Hennepin County, Minnesota: Summary level: 140, state:27&gt; county:053&gt; tract:104800</th>\n",
       "      <td>7614</td>\n",
       "      <td>4706</td>\n",
       "    </tr>\n",
       "    <tr>\n",
       "      <th>Census Tract 1087, Hennepin County, Minnesota: Summary level: 140, state:27&gt; county:053&gt; tract:108700</th>\n",
       "      <td>2972</td>\n",
       "      <td>2098</td>\n",
       "    </tr>\n",
       "    <tr>\n",
       "      <th>Census Tract 1056, Hennepin County, Minnesota: Summary level: 140, state:27&gt; county:053&gt; tract:105600</th>\n",
       "      <td>4189</td>\n",
       "      <td>3578</td>\n",
       "    </tr>\n",
       "    <tr>\n",
       "      <th>Census Tract 1062, Hennepin County, Minnesota: Summary level: 140, state:27&gt; county:053&gt; tract:106200</th>\n",
       "      <td>3255</td>\n",
       "      <td>2380</td>\n",
       "    </tr>\n",
       "    <tr>\n",
       "      <th>Census Tract 1086, Hennepin County, Minnesota: Summary level: 140, state:27&gt; county:053&gt; tract:108600</th>\n",
       "      <td>2287</td>\n",
       "      <td>1859</td>\n",
       "    </tr>\n",
       "    <tr>\n",
       "      <th>...</th>\n",
       "      <td>...</td>\n",
       "      <td>...</td>\n",
       "    </tr>\n",
       "    <tr>\n",
       "      <th>Census Tract 265.10, Hennepin County, Minnesota: Summary level: 140, state:27&gt; county:053&gt; tract:026510</th>\n",
       "      <td>3066</td>\n",
       "      <td>2203</td>\n",
       "    </tr>\n",
       "    <tr>\n",
       "      <th>Census Tract 265.12, Hennepin County, Minnesota: Summary level: 140, state:27&gt; county:053&gt; tract:026512</th>\n",
       "      <td>5336</td>\n",
       "      <td>3599</td>\n",
       "    </tr>\n",
       "    <tr>\n",
       "      <th>Census Tract 267.07, Hennepin County, Minnesota: Summary level: 140, state:27&gt; county:053&gt; tract:026707</th>\n",
       "      <td>3921</td>\n",
       "      <td>3171</td>\n",
       "    </tr>\n",
       "    <tr>\n",
       "      <th>Census Tract 210.02, Hennepin County, Minnesota: Summary level: 140, state:27&gt; county:053&gt; tract:021002</th>\n",
       "      <td>1646</td>\n",
       "      <td>1154</td>\n",
       "    </tr>\n",
       "    <tr>\n",
       "      <th>Census Tract 215.02, Hennepin County, Minnesota: Summary level: 140, state:27&gt; county:053&gt; tract:021502</th>\n",
       "      <td>2944</td>\n",
       "      <td>1845</td>\n",
       "    </tr>\n",
       "  </tbody>\n",
       "</table>\n",
       "<p>299 rows × 2 columns</p>\n",
       "</div>"
      ],
      "text/plain": [
       "                                                    TotalWorking_Pop  \\\n",
       "Census Tract 1048, Hennepin County, Minnesota: ...              7614   \n",
       "Census Tract 1087, Hennepin County, Minnesota: ...              2972   \n",
       "Census Tract 1056, Hennepin County, Minnesota: ...              4189   \n",
       "Census Tract 1062, Hennepin County, Minnesota: ...              3255   \n",
       "Census Tract 1086, Hennepin County, Minnesota: ...              2287   \n",
       "...                                                              ...   \n",
       "Census Tract 265.10, Hennepin County, Minnesota...              3066   \n",
       "Census Tract 265.12, Hennepin County, Minnesota...              5336   \n",
       "Census Tract 267.07, Hennepin County, Minnesota...              3921   \n",
       "Census Tract 210.02, Hennepin County, Minnesota...              1646   \n",
       "Census Tract 215.02, Hennepin County, Minnesota...              2944   \n",
       "\n",
       "                                                    inLaborForce  \n",
       "Census Tract 1048, Hennepin County, Minnesota: ...          4706  \n",
       "Census Tract 1087, Hennepin County, Minnesota: ...          2098  \n",
       "Census Tract 1056, Hennepin County, Minnesota: ...          3578  \n",
       "Census Tract 1062, Hennepin County, Minnesota: ...          2380  \n",
       "Census Tract 1086, Hennepin County, Minnesota: ...          1859  \n",
       "...                                                          ...  \n",
       "Census Tract 265.10, Hennepin County, Minnesota...          2203  \n",
       "Census Tract 265.12, Hennepin County, Minnesota...          3599  \n",
       "Census Tract 267.07, Hennepin County, Minnesota...          3171  \n",
       "Census Tract 210.02, Hennepin County, Minnesota...          1154  \n",
       "Census Tract 215.02, Hennepin County, Minnesota...          1845  \n",
       "\n",
       "[299 rows x 2 columns]"
      ]
     },
     "execution_count": 15,
     "metadata": {},
     "output_type": "execute_result"
    }
   ],
   "source": [
    "employment_status_hennepin = censusdata.download('acs5', 2018,\n",
    "                             censusdata.censusgeo([('state', '27'), ('county', '053'), ('tract', '*')]),\n",
    "                             ['B23025_001E', 'B23025_002E'])\n",
    "\n",
    "employment_status_tract = employment_status_hennepin.rename(columns={'B23025_001E': 'TotalWorking_Pop', \n",
    "                                                                  'B23025_002E': 'inLaborForce'})\n",
    "employment_status_tract"
   ]
  },
  {
   "cell_type": "code",
   "execution_count": 16,
   "id": "42468474-dbb3-4ba4-8692-9c828a52d352",
   "metadata": {
    "collapsed": true,
    "jupyter": {
     "outputs_hidden": true
    },
    "tags": []
   },
   "outputs": [
    {
     "data": {
      "text/html": [
       "<div>\n",
       "<style scoped>\n",
       "    .dataframe tbody tr th:only-of-type {\n",
       "        vertical-align: middle;\n",
       "    }\n",
       "\n",
       "    .dataframe tbody tr th {\n",
       "        vertical-align: top;\n",
       "    }\n",
       "\n",
       "    .dataframe thead th {\n",
       "        text-align: right;\n",
       "    }\n",
       "</style>\n",
       "<table border=\"1\" class=\"dataframe\">\n",
       "  <thead>\n",
       "    <tr style=\"text-align: right;\">\n",
       "      <th></th>\n",
       "      <th>HousingUnits_Total</th>\n",
       "    </tr>\n",
       "  </thead>\n",
       "  <tbody>\n",
       "    <tr>\n",
       "      <th>Census Tract 1048, Hennepin County, Minnesota: Summary level: 140, state:27&gt; county:053&gt; tract:104800</th>\n",
       "      <td>3571</td>\n",
       "    </tr>\n",
       "    <tr>\n",
       "      <th>Census Tract 1087, Hennepin County, Minnesota: Summary level: 140, state:27&gt; county:053&gt; tract:108700</th>\n",
       "      <td>1580</td>\n",
       "    </tr>\n",
       "    <tr>\n",
       "      <th>Census Tract 1056, Hennepin County, Minnesota: Summary level: 140, state:27&gt; county:053&gt; tract:105600</th>\n",
       "      <td>3379</td>\n",
       "    </tr>\n",
       "    <tr>\n",
       "      <th>Census Tract 1062, Hennepin County, Minnesota: Summary level: 140, state:27&gt; county:053&gt; tract:106200</th>\n",
       "      <td>2043</td>\n",
       "    </tr>\n",
       "    <tr>\n",
       "      <th>Census Tract 1086, Hennepin County, Minnesota: Summary level: 140, state:27&gt; county:053&gt; tract:108600</th>\n",
       "      <td>1110</td>\n",
       "    </tr>\n",
       "    <tr>\n",
       "      <th>...</th>\n",
       "      <td>...</td>\n",
       "    </tr>\n",
       "    <tr>\n",
       "      <th>Census Tract 265.10, Hennepin County, Minnesota: Summary level: 140, state:27&gt; county:053&gt; tract:026510</th>\n",
       "      <td>1780</td>\n",
       "    </tr>\n",
       "    <tr>\n",
       "      <th>Census Tract 265.12, Hennepin County, Minnesota: Summary level: 140, state:27&gt; county:053&gt; tract:026512</th>\n",
       "      <td>2653</td>\n",
       "    </tr>\n",
       "    <tr>\n",
       "      <th>Census Tract 267.07, Hennepin County, Minnesota: Summary level: 140, state:27&gt; county:053&gt; tract:026707</th>\n",
       "      <td>1960</td>\n",
       "    </tr>\n",
       "    <tr>\n",
       "      <th>Census Tract 210.02, Hennepin County, Minnesota: Summary level: 140, state:27&gt; county:053&gt; tract:021002</th>\n",
       "      <td>899</td>\n",
       "    </tr>\n",
       "    <tr>\n",
       "      <th>Census Tract 215.02, Hennepin County, Minnesota: Summary level: 140, state:27&gt; county:053&gt; tract:021502</th>\n",
       "      <td>1617</td>\n",
       "    </tr>\n",
       "  </tbody>\n",
       "</table>\n",
       "<p>299 rows × 1 columns</p>\n",
       "</div>"
      ],
      "text/plain": [
       "                                                    HousingUnits_Total\n",
       "Census Tract 1048, Hennepin County, Minnesota: ...                3571\n",
       "Census Tract 1087, Hennepin County, Minnesota: ...                1580\n",
       "Census Tract 1056, Hennepin County, Minnesota: ...                3379\n",
       "Census Tract 1062, Hennepin County, Minnesota: ...                2043\n",
       "Census Tract 1086, Hennepin County, Minnesota: ...                1110\n",
       "...                                                                ...\n",
       "Census Tract 265.10, Hennepin County, Minnesota...                1780\n",
       "Census Tract 265.12, Hennepin County, Minnesota...                2653\n",
       "Census Tract 267.07, Hennepin County, Minnesota...                1960\n",
       "Census Tract 210.02, Hennepin County, Minnesota...                 899\n",
       "Census Tract 215.02, Hennepin County, Minnesota...                1617\n",
       "\n",
       "[299 rows x 1 columns]"
      ]
     },
     "execution_count": 16,
     "metadata": {},
     "output_type": "execute_result"
    }
   ],
   "source": [
    "housing_units_hennepin = censusdata.download('acs5', 2018,\n",
    "                             censusdata.censusgeo([('state', '27'), ('county', '053'), ('tract', '*')]),\n",
    "                             ['B25001_001E'])\n",
    "\n",
    "housing_units_tract = housing_units_hennepin.rename(columns={'B25001_001E': 'HousingUnits_Total'})\n",
    "housing_units_tract"
   ]
  },
  {
   "cell_type": "code",
   "execution_count": 17,
   "id": "8afbffda-3c2c-43b9-beab-adb7678eb3c6",
   "metadata": {
    "collapsed": true,
    "jupyter": {
     "outputs_hidden": true
    },
    "tags": []
   },
   "outputs": [
    {
     "data": {
      "text/html": [
       "<div>\n",
       "<style scoped>\n",
       "    .dataframe tbody tr th:only-of-type {\n",
       "        vertical-align: middle;\n",
       "    }\n",
       "\n",
       "    .dataframe tbody tr th {\n",
       "        vertical-align: top;\n",
       "    }\n",
       "\n",
       "    .dataframe thead th {\n",
       "        text-align: right;\n",
       "    }\n",
       "</style>\n",
       "<table border=\"1\" class=\"dataframe\">\n",
       "  <thead>\n",
       "    <tr style=\"text-align: right;\">\n",
       "      <th></th>\n",
       "      <th>Income</th>\n",
       "    </tr>\n",
       "  </thead>\n",
       "  <tbody>\n",
       "    <tr>\n",
       "      <th>Census Tract 1048, Hennepin County, Minnesota: Summary level: 140, state:27&gt; county:053&gt; tract:104800</th>\n",
       "      <td>12063</td>\n",
       "    </tr>\n",
       "    <tr>\n",
       "      <th>Census Tract 1087, Hennepin County, Minnesota: Summary level: 140, state:27&gt; county:053&gt; tract:108700</th>\n",
       "      <td>28163</td>\n",
       "    </tr>\n",
       "    <tr>\n",
       "      <th>Census Tract 1056, Hennepin County, Minnesota: Summary level: 140, state:27&gt; county:053&gt; tract:105600</th>\n",
       "      <td>50288</td>\n",
       "    </tr>\n",
       "    <tr>\n",
       "      <th>Census Tract 1062, Hennepin County, Minnesota: Summary level: 140, state:27&gt; county:053&gt; tract:106200</th>\n",
       "      <td>25363</td>\n",
       "    </tr>\n",
       "    <tr>\n",
       "      <th>Census Tract 1086, Hennepin County, Minnesota: Summary level: 140, state:27&gt; county:053&gt; tract:108600</th>\n",
       "      <td>22401</td>\n",
       "    </tr>\n",
       "    <tr>\n",
       "      <th>...</th>\n",
       "      <td>...</td>\n",
       "    </tr>\n",
       "    <tr>\n",
       "      <th>Census Tract 265.10, Hennepin County, Minnesota: Summary level: 140, state:27&gt; county:053&gt; tract:026510</th>\n",
       "      <td>47629</td>\n",
       "    </tr>\n",
       "    <tr>\n",
       "      <th>Census Tract 265.12, Hennepin County, Minnesota: Summary level: 140, state:27&gt; county:053&gt; tract:026512</th>\n",
       "      <td>51561</td>\n",
       "    </tr>\n",
       "    <tr>\n",
       "      <th>Census Tract 267.07, Hennepin County, Minnesota: Summary level: 140, state:27&gt; county:053&gt; tract:026707</th>\n",
       "      <td>45204</td>\n",
       "    </tr>\n",
       "    <tr>\n",
       "      <th>Census Tract 210.02, Hennepin County, Minnesota: Summary level: 140, state:27&gt; county:053&gt; tract:021002</th>\n",
       "      <td>38549</td>\n",
       "    </tr>\n",
       "    <tr>\n",
       "      <th>Census Tract 215.02, Hennepin County, Minnesota: Summary level: 140, state:27&gt; county:053&gt; tract:021502</th>\n",
       "      <td>25482</td>\n",
       "    </tr>\n",
       "  </tbody>\n",
       "</table>\n",
       "<p>299 rows × 1 columns</p>\n",
       "</div>"
      ],
      "text/plain": [
       "                                                    Income\n",
       "Census Tract 1048, Hennepin County, Minnesota: ...   12063\n",
       "Census Tract 1087, Hennepin County, Minnesota: ...   28163\n",
       "Census Tract 1056, Hennepin County, Minnesota: ...   50288\n",
       "Census Tract 1062, Hennepin County, Minnesota: ...   25363\n",
       "Census Tract 1086, Hennepin County, Minnesota: ...   22401\n",
       "...                                                    ...\n",
       "Census Tract 265.10, Hennepin County, Minnesota...   47629\n",
       "Census Tract 265.12, Hennepin County, Minnesota...   51561\n",
       "Census Tract 267.07, Hennepin County, Minnesota...   45204\n",
       "Census Tract 210.02, Hennepin County, Minnesota...   38549\n",
       "Census Tract 215.02, Hennepin County, Minnesota...   25482\n",
       "\n",
       "[299 rows x 1 columns]"
      ]
     },
     "execution_count": 17,
     "metadata": {},
     "output_type": "execute_result"
    }
   ],
   "source": [
    "income_hennepin = censusdata.download('acs5', 2018,\n",
    "                             censusdata.censusgeo([('state', '27'), ('county', '053'), ('tract', '*')]),\n",
    "                             ['B19301_001E'])\n",
    "\n",
    "income_tract = income_hennepin.rename(columns={'B19301_001E': 'Income'})\n",
    "income_tract"
   ]
  },
  {
   "cell_type": "code",
   "execution_count": 18,
   "id": "6d795ebd-f159-45ff-87be-bb393b67e6a6",
   "metadata": {
    "collapsed": true,
    "jupyter": {
     "outputs_hidden": true
    },
    "tags": []
   },
   "outputs": [
    {
     "data": {
      "text/html": [
       "<div>\n",
       "<style scoped>\n",
       "    .dataframe tbody tr th:only-of-type {\n",
       "        vertical-align: middle;\n",
       "    }\n",
       "\n",
       "    .dataframe tbody tr th {\n",
       "        vertical-align: top;\n",
       "    }\n",
       "\n",
       "    .dataframe thead th {\n",
       "        text-align: right;\n",
       "    }\n",
       "</style>\n",
       "<table border=\"1\" class=\"dataframe\">\n",
       "  <thead>\n",
       "    <tr style=\"text-align: right;\">\n",
       "      <th></th>\n",
       "      <th>Language_Total_Count</th>\n",
       "    </tr>\n",
       "  </thead>\n",
       "  <tbody>\n",
       "    <tr>\n",
       "      <th>Census Tract 1048, Hennepin County, Minnesota: Summary level: 140, state:27&gt; county:053&gt; tract:104800</th>\n",
       "      <td>8903</td>\n",
       "    </tr>\n",
       "    <tr>\n",
       "      <th>Census Tract 1087, Hennepin County, Minnesota: Summary level: 140, state:27&gt; county:053&gt; tract:108700</th>\n",
       "      <td>3597</td>\n",
       "    </tr>\n",
       "    <tr>\n",
       "      <th>Census Tract 1056, Hennepin County, Minnesota: Summary level: 140, state:27&gt; county:053&gt; tract:105600</th>\n",
       "      <td>4285</td>\n",
       "    </tr>\n",
       "    <tr>\n",
       "      <th>Census Tract 1062, Hennepin County, Minnesota: Summary level: 140, state:27&gt; county:053&gt; tract:106200</th>\n",
       "      <td>3667</td>\n",
       "    </tr>\n",
       "    <tr>\n",
       "      <th>Census Tract 1086, Hennepin County, Minnesota: Summary level: 140, state:27&gt; county:053&gt; tract:108600</th>\n",
       "      <td>2699</td>\n",
       "    </tr>\n",
       "    <tr>\n",
       "      <th>...</th>\n",
       "      <td>...</td>\n",
       "    </tr>\n",
       "    <tr>\n",
       "      <th>Census Tract 265.10, Hennepin County, Minnesota: Summary level: 140, state:27&gt; county:053&gt; tract:026510</th>\n",
       "      <td>3374</td>\n",
       "    </tr>\n",
       "    <tr>\n",
       "      <th>Census Tract 265.12, Hennepin County, Minnesota: Summary level: 140, state:27&gt; county:053&gt; tract:026512</th>\n",
       "      <td>5976</td>\n",
       "    </tr>\n",
       "    <tr>\n",
       "      <th>Census Tract 267.07, Hennepin County, Minnesota: Summary level: 140, state:27&gt; county:053&gt; tract:026707</th>\n",
       "      <td>4448</td>\n",
       "    </tr>\n",
       "    <tr>\n",
       "      <th>Census Tract 210.02, Hennepin County, Minnesota: Summary level: 140, state:27&gt; county:053&gt; tract:021002</th>\n",
       "      <td>1902</td>\n",
       "    </tr>\n",
       "    <tr>\n",
       "      <th>Census Tract 215.02, Hennepin County, Minnesota: Summary level: 140, state:27&gt; county:053&gt; tract:021502</th>\n",
       "      <td>3505</td>\n",
       "    </tr>\n",
       "  </tbody>\n",
       "</table>\n",
       "<p>299 rows × 1 columns</p>\n",
       "</div>"
      ],
      "text/plain": [
       "                                                    Language_Total_Count\n",
       "Census Tract 1048, Hennepin County, Minnesota: ...                  8903\n",
       "Census Tract 1087, Hennepin County, Minnesota: ...                  3597\n",
       "Census Tract 1056, Hennepin County, Minnesota: ...                  4285\n",
       "Census Tract 1062, Hennepin County, Minnesota: ...                  3667\n",
       "Census Tract 1086, Hennepin County, Minnesota: ...                  2699\n",
       "...                                                                  ...\n",
       "Census Tract 265.10, Hennepin County, Minnesota...                  3374\n",
       "Census Tract 265.12, Hennepin County, Minnesota...                  5976\n",
       "Census Tract 267.07, Hennepin County, Minnesota...                  4448\n",
       "Census Tract 210.02, Hennepin County, Minnesota...                  1902\n",
       "Census Tract 215.02, Hennepin County, Minnesota...                  3505\n",
       "\n",
       "[299 rows x 1 columns]"
      ]
     },
     "execution_count": 18,
     "metadata": {},
     "output_type": "execute_result"
    }
   ],
   "source": [
    "language_total_hennepin = censusdata.download('acs5', 2018,\n",
    "                             censusdata.censusgeo([('state', '27'), ('county', '053'), ('tract', '*')]),\n",
    "                             ['B16007_001E'])\n",
    "language_tracts = language_total_hennepin.rename(columns={'B16007_001E': 'Language_Total_Count'})\n",
    "language_tracts"
   ]
  },
  {
   "cell_type": "code",
   "execution_count": 19,
   "id": "3943e754-72ba-4ade-ba7e-451426cb9233",
   "metadata": {
    "collapsed": true,
    "jupyter": {
     "outputs_hidden": true
    },
    "tags": []
   },
   "outputs": [
    {
     "data": {
      "text/plain": [
       "Census Tract 1048, Hennepin County, Minnesota: Summary level: 140, state:27> county:053> tract:104800      3991\n",
       "Census Tract 1087, Hennepin County, Minnesota: Summary level: 140, state:27> county:053> tract:108700      3159\n",
       "Census Tract 1056, Hennepin County, Minnesota: Summary level: 140, state:27> county:053> tract:105600      3348\n",
       "Census Tract 1062, Hennepin County, Minnesota: Summary level: 140, state:27> county:053> tract:106200      1846\n",
       "Census Tract 1086, Hennepin County, Minnesota: Summary level: 140, state:27> county:053> tract:108600      1366\n",
       "                                                                                                           ... \n",
       "Census Tract 265.10, Hennepin County, Minnesota: Summary level: 140, state:27> county:053> tract:026510    2924\n",
       "Census Tract 265.12, Hennepin County, Minnesota: Summary level: 140, state:27> county:053> tract:026512    5227\n",
       "Census Tract 267.07, Hennepin County, Minnesota: Summary level: 140, state:27> county:053> tract:026707    4186\n",
       "Census Tract 210.02, Hennepin County, Minnesota: Summary level: 140, state:27> county:053> tract:021002    1793\n",
       "Census Tract 215.02, Hennepin County, Minnesota: Summary level: 140, state:27> county:053> tract:021502    2693\n",
       "Length: 299, dtype: int64"
      ]
     },
     "execution_count": 19,
     "metadata": {},
     "output_type": "execute_result"
    }
   ],
   "source": [
    "english_hennepin = censusdata.download('acs5', 2018,\n",
    "                             censusdata.censusgeo([('state', '27'), ('county', '053'), ('tract', '*')]),\n",
    "                             ['B16007_003E', 'B16007_009E', 'B16007_015E'])\n",
    "english_total_tract = english_hennepin.rename(columns={'B16007_003E' : 'English5-17', 'B16007_009E' : 'English18-60', 'B16007_015E' : 'English60-65'})\n",
    "english_total_tract = english_total_tract['English5-17'] + english_total_tract['English18-60'] + english_total_tract['English60-65']\n",
    "english_total_tract"
   ]
  },
  {
   "cell_type": "code",
   "execution_count": 20,
   "id": "489a9991-e818-4ffc-99b4-d2f43ca9d8a3",
   "metadata": {
    "collapsed": true,
    "jupyter": {
     "outputs_hidden": true
    },
    "tags": []
   },
   "outputs": [
    {
     "data": {
      "text/plain": [
       "Census Tract 1048, Hennepin County, Minnesota: Summary level: 140, state:27> county:053> tract:104800       133\n",
       "Census Tract 1087, Hennepin County, Minnesota: Summary level: 140, state:27> county:053> tract:108700        63\n",
       "Census Tract 1056, Hennepin County, Minnesota: Summary level: 140, state:27> county:053> tract:105600       383\n",
       "Census Tract 1062, Hennepin County, Minnesota: Summary level: 140, state:27> county:053> tract:106200        59\n",
       "Census Tract 1086, Hennepin County, Minnesota: Summary level: 140, state:27> county:053> tract:108600      1103\n",
       "                                                                                                           ... \n",
       "Census Tract 265.10, Hennepin County, Minnesota: Summary level: 140, state:27> county:053> tract:026510     156\n",
       "Census Tract 265.12, Hennepin County, Minnesota: Summary level: 140, state:27> county:053> tract:026512     231\n",
       "Census Tract 267.07, Hennepin County, Minnesota: Summary level: 140, state:27> county:053> tract:026707     128\n",
       "Census Tract 210.02, Hennepin County, Minnesota: Summary level: 140, state:27> county:053> tract:021002      21\n",
       "Census Tract 215.02, Hennepin County, Minnesota: Summary level: 140, state:27> county:053> tract:021502     280\n",
       "Length: 299, dtype: int64"
      ]
     },
     "execution_count": 20,
     "metadata": {},
     "output_type": "execute_result"
    }
   ],
   "source": [
    "spanish_hennepin = censusdata.download('acs5', 2018,\n",
    "                             censusdata.censusgeo([('state', '27'), ('county', '053'), ('tract', '*')]),\n",
    "                             ['B16007_004E', 'B16007_010E', 'B16007_016E'])\n",
    "spanish_total_tract = spanish_hennepin['B16007_004E'] + spanish_hennepin['B16007_010E'] + spanish_hennepin['B16007_016E']\n",
    "spanish_total_tract"
   ]
  },
  {
   "cell_type": "code",
   "execution_count": 21,
   "id": "2858c7cb-9315-4938-b9e6-8902415700b9",
   "metadata": {
    "collapsed": true,
    "jupyter": {
     "outputs_hidden": true
    },
    "tags": []
   },
   "outputs": [
    {
     "data": {
      "text/plain": [
       "Census Tract 1048, Hennepin County, Minnesota: Summary level: 140, state:27> county:053> tract:104800      269\n",
       "Census Tract 1087, Hennepin County, Minnesota: Summary level: 140, state:27> county:053> tract:108700        0\n",
       "Census Tract 1056, Hennepin County, Minnesota: Summary level: 140, state:27> county:053> tract:105600      302\n",
       "Census Tract 1062, Hennepin County, Minnesota: Summary level: 140, state:27> county:053> tract:106200       71\n",
       "Census Tract 1086, Hennepin County, Minnesota: Summary level: 140, state:27> county:053> tract:108600       13\n",
       "                                                                                                          ... \n",
       "Census Tract 265.10, Hennepin County, Minnesota: Summary level: 140, state:27> county:053> tract:026510     79\n",
       "Census Tract 265.12, Hennepin County, Minnesota: Summary level: 140, state:27> county:053> tract:026512    324\n",
       "Census Tract 267.07, Hennepin County, Minnesota: Summary level: 140, state:27> county:053> tract:026707     28\n",
       "Census Tract 210.02, Hennepin County, Minnesota: Summary level: 140, state:27> county:053> tract:021002     15\n",
       "Census Tract 215.02, Hennepin County, Minnesota: Summary level: 140, state:27> county:053> tract:021502    106\n",
       "Length: 299, dtype: int64"
      ]
     },
     "execution_count": 21,
     "metadata": {},
     "output_type": "execute_result"
    }
   ],
   "source": [
    "indoeuro_hennepin = censusdata.download('acs5', 2018,\n",
    "                             censusdata.censusgeo([('state', '27'), ('county', '053'), ('tract', '*')]),\n",
    "                             ['B16007_005E', 'B16007_011E', 'B16007_017E'])\n",
    "indoeuro_total_tract = indoeuro_hennepin['B16007_005E'] + indoeuro_hennepin['B16007_011E'] + indoeuro_hennepin['B16007_017E']\n",
    "indoeuro_total_tract"
   ]
  },
  {
   "cell_type": "code",
   "execution_count": 22,
   "id": "c6e2ba5d-1a04-4431-b753-a170044ccb2e",
   "metadata": {
    "collapsed": true,
    "jupyter": {
     "outputs_hidden": true
    },
    "tags": []
   },
   "outputs": [
    {
     "data": {
      "text/plain": [
       "Census Tract 1048, Hennepin County, Minnesota: Summary level: 140, state:27> county:053> tract:104800      854\n",
       "Census Tract 1087, Hennepin County, Minnesota: Summary level: 140, state:27> county:053> tract:108700      107\n",
       "Census Tract 1056, Hennepin County, Minnesota: Summary level: 140, state:27> county:053> tract:105600      146\n",
       "Census Tract 1062, Hennepin County, Minnesota: Summary level: 140, state:27> county:053> tract:106200       51\n",
       "Census Tract 1086, Hennepin County, Minnesota: Summary level: 140, state:27> county:053> tract:108600       26\n",
       "                                                                                                          ... \n",
       "Census Tract 265.10, Hennepin County, Minnesota: Summary level: 140, state:27> county:053> tract:026510    158\n",
       "Census Tract 265.12, Hennepin County, Minnesota: Summary level: 140, state:27> county:053> tract:026512    136\n",
       "Census Tract 267.07, Hennepin County, Minnesota: Summary level: 140, state:27> county:053> tract:026707     66\n",
       "Census Tract 210.02, Hennepin County, Minnesota: Summary level: 140, state:27> county:053> tract:021002      0\n",
       "Census Tract 215.02, Hennepin County, Minnesota: Summary level: 140, state:27> county:053> tract:021502     60\n",
       "Length: 299, dtype: int64"
      ]
     },
     "execution_count": 22,
     "metadata": {},
     "output_type": "execute_result"
    }
   ],
   "source": [
    "asian_hennepin = censusdata.download('acs5', 2018,\n",
    "                             censusdata.censusgeo([('state', '27'), ('county', '053'), ('tract', '*')]),\n",
    "                             ['B16007_006E', 'B16007_012E', 'B16007_018E'])\n",
    "asian_total_tract = asian_hennepin['B16007_006E'] + asian_hennepin['B16007_012E'] + asian_hennepin['B16007_018E']\n",
    "asian_total_tract"
   ]
  },
  {
   "cell_type": "code",
   "execution_count": 23,
   "id": "e7e4c31d-b657-4272-ab8e-520e542cae67",
   "metadata": {
    "collapsed": true,
    "jupyter": {
     "outputs_hidden": true
    },
    "tags": []
   },
   "outputs": [
    {
     "data": {
      "text/plain": [
       "Census Tract 1048, Hennepin County, Minnesota: Summary level: 140, state:27> county:053> tract:104800      3656\n",
       "Census Tract 1087, Hennepin County, Minnesota: Summary level: 140, state:27> county:053> tract:108700       268\n",
       "Census Tract 1056, Hennepin County, Minnesota: Summary level: 140, state:27> county:053> tract:105600       106\n",
       "Census Tract 1062, Hennepin County, Minnesota: Summary level: 140, state:27> county:053> tract:106200      1640\n",
       "Census Tract 1086, Hennepin County, Minnesota: Summary level: 140, state:27> county:053> tract:108600       191\n",
       "                                                                                                           ... \n",
       "Census Tract 265.10, Hennepin County, Minnesota: Summary level: 140, state:27> county:053> tract:026510      57\n",
       "Census Tract 265.12, Hennepin County, Minnesota: Summary level: 140, state:27> county:053> tract:026512      58\n",
       "Census Tract 267.07, Hennepin County, Minnesota: Summary level: 140, state:27> county:053> tract:026707      40\n",
       "Census Tract 210.02, Hennepin County, Minnesota: Summary level: 140, state:27> county:053> tract:021002      73\n",
       "Census Tract 215.02, Hennepin County, Minnesota: Summary level: 140, state:27> county:053> tract:021502     366\n",
       "Length: 299, dtype: int64"
      ]
     },
     "execution_count": 23,
     "metadata": {},
     "output_type": "execute_result"
    }
   ],
   "source": [
    "other_language_hennepin = censusdata.download('acs5', 2018,\n",
    "                             censusdata.censusgeo([('state', '27'), ('county', '053'), ('tract', '*')]),\n",
    "                             ['B16007_007E', 'B16007_013E', 'B16007_019E'])\n",
    "other_language_tract = other_language_hennepin['B16007_007E'] + other_language_hennepin['B16007_013E'] + other_language_hennepin['B16007_019E']\n",
    "other_language_tract"
   ]
  },
  {
   "cell_type": "code",
   "execution_count": 24,
   "id": "57868ed4-5a9c-4b71-a49e-a3f9f17588f9",
   "metadata": {
    "collapsed": true,
    "jupyter": {
     "outputs_hidden": true
    },
    "tags": []
   },
   "outputs": [
    {
     "data": {
      "text/html": [
       "<div>\n",
       "<style scoped>\n",
       "    .dataframe tbody tr th:only-of-type {\n",
       "        vertical-align: middle;\n",
       "    }\n",
       "\n",
       "    .dataframe tbody tr th {\n",
       "        vertical-align: top;\n",
       "    }\n",
       "\n",
       "    .dataframe thead th {\n",
       "        text-align: right;\n",
       "    }\n",
       "</style>\n",
       "<table border=\"1\" class=\"dataframe\">\n",
       "  <thead>\n",
       "    <tr style=\"text-align: right;\">\n",
       "      <th></th>\n",
       "      <th>Health_Insurance</th>\n",
       "    </tr>\n",
       "  </thead>\n",
       "  <tbody>\n",
       "    <tr>\n",
       "      <th>Census Tract 1048, Hennepin County, Minnesota: Summary level: 140, state:27&gt; county:053&gt; tract:104800</th>\n",
       "      <td>9979</td>\n",
       "    </tr>\n",
       "    <tr>\n",
       "      <th>Census Tract 1087, Hennepin County, Minnesota: Summary level: 140, state:27&gt; county:053&gt; tract:108700</th>\n",
       "      <td>3652</td>\n",
       "    </tr>\n",
       "    <tr>\n",
       "      <th>Census Tract 1056, Hennepin County, Minnesota: Summary level: 140, state:27&gt; county:053&gt; tract:105600</th>\n",
       "      <td>4444</td>\n",
       "    </tr>\n",
       "    <tr>\n",
       "      <th>Census Tract 1062, Hennepin County, Minnesota: Summary level: 140, state:27&gt; county:053&gt; tract:106200</th>\n",
       "      <td>4084</td>\n",
       "    </tr>\n",
       "    <tr>\n",
       "      <th>Census Tract 1086, Hennepin County, Minnesota: Summary level: 140, state:27&gt; county:053&gt; tract:108600</th>\n",
       "      <td>2998</td>\n",
       "    </tr>\n",
       "    <tr>\n",
       "      <th>...</th>\n",
       "      <td>...</td>\n",
       "    </tr>\n",
       "    <tr>\n",
       "      <th>Census Tract 265.10, Hennepin County, Minnesota: Summary level: 140, state:27&gt; county:053&gt; tract:026510</th>\n",
       "      <td>3579</td>\n",
       "    </tr>\n",
       "    <tr>\n",
       "      <th>Census Tract 265.12, Hennepin County, Minnesota: Summary level: 140, state:27&gt; county:053&gt; tract:026512</th>\n",
       "      <td>5993</td>\n",
       "    </tr>\n",
       "    <tr>\n",
       "      <th>Census Tract 267.07, Hennepin County, Minnesota: Summary level: 140, state:27&gt; county:053&gt; tract:026707</th>\n",
       "      <td>4805</td>\n",
       "    </tr>\n",
       "    <tr>\n",
       "      <th>Census Tract 210.02, Hennepin County, Minnesota: Summary level: 140, state:27&gt; county:053&gt; tract:021002</th>\n",
       "      <td>1959</td>\n",
       "    </tr>\n",
       "    <tr>\n",
       "      <th>Census Tract 215.02, Hennepin County, Minnesota: Summary level: 140, state:27&gt; county:053&gt; tract:021502</th>\n",
       "      <td>3526</td>\n",
       "    </tr>\n",
       "  </tbody>\n",
       "</table>\n",
       "<p>299 rows × 1 columns</p>\n",
       "</div>"
      ],
      "text/plain": [
       "                                                    Health_Insurance\n",
       "Census Tract 1048, Hennepin County, Minnesota: ...              9979\n",
       "Census Tract 1087, Hennepin County, Minnesota: ...              3652\n",
       "Census Tract 1056, Hennepin County, Minnesota: ...              4444\n",
       "Census Tract 1062, Hennepin County, Minnesota: ...              4084\n",
       "Census Tract 1086, Hennepin County, Minnesota: ...              2998\n",
       "...                                                              ...\n",
       "Census Tract 265.10, Hennepin County, Minnesota...              3579\n",
       "Census Tract 265.12, Hennepin County, Minnesota...              5993\n",
       "Census Tract 267.07, Hennepin County, Minnesota...              4805\n",
       "Census Tract 210.02, Hennepin County, Minnesota...              1959\n",
       "Census Tract 215.02, Hennepin County, Minnesota...              3526\n",
       "\n",
       "[299 rows x 1 columns]"
      ]
     },
     "execution_count": 24,
     "metadata": {},
     "output_type": "execute_result"
    }
   ],
   "source": [
    "health_insurance_hennepin = censusdata.download('acs5', 2018,\n",
    "                             censusdata.censusgeo([('state', '27'), ('county', '053'), ('tract', '*')]),\n",
    "                             ['B27001_001E'])\n",
    "\n",
    "health_insurance_tract = health_insurance_hennepin.rename(columns={'B27001_001E': 'Health_Insurance'})\n",
    "health_insurance_tract"
   ]
  },
  {
   "cell_type": "code",
   "execution_count": 25,
   "id": "04e13e89-7a9b-4d18-9bef-db2ebfe63d66",
   "metadata": {
    "collapsed": true,
    "jupyter": {
     "outputs_hidden": true
    },
    "tags": []
   },
   "outputs": [
    {
     "data": {
      "text/html": [
       "<div>\n",
       "<style scoped>\n",
       "    .dataframe tbody tr th:only-of-type {\n",
       "        vertical-align: middle;\n",
       "    }\n",
       "\n",
       "    .dataframe tbody tr th {\n",
       "        vertical-align: top;\n",
       "    }\n",
       "\n",
       "    .dataframe thead th {\n",
       "        text-align: right;\n",
       "    }\n",
       "</style>\n",
       "<table border=\"1\" class=\"dataframe\">\n",
       "  <thead>\n",
       "    <tr style=\"text-align: right;\">\n",
       "      <th></th>\n",
       "      <th>Poverty_Count</th>\n",
       "    </tr>\n",
       "  </thead>\n",
       "  <tbody>\n",
       "    <tr>\n",
       "      <th>Census Tract 1048, Hennepin County, Minnesota: Summary level: 140, state:27&gt; county:053&gt; tract:104800</th>\n",
       "      <td>7951</td>\n",
       "    </tr>\n",
       "    <tr>\n",
       "      <th>Census Tract 1087, Hennepin County, Minnesota: Summary level: 140, state:27&gt; county:053&gt; tract:108700</th>\n",
       "      <td>3652</td>\n",
       "    </tr>\n",
       "    <tr>\n",
       "      <th>Census Tract 1056, Hennepin County, Minnesota: Summary level: 140, state:27&gt; county:053&gt; tract:105600</th>\n",
       "      <td>4384</td>\n",
       "    </tr>\n",
       "    <tr>\n",
       "      <th>Census Tract 1062, Hennepin County, Minnesota: Summary level: 140, state:27&gt; county:053&gt; tract:106200</th>\n",
       "      <td>4084</td>\n",
       "    </tr>\n",
       "    <tr>\n",
       "      <th>Census Tract 1086, Hennepin County, Minnesota: Summary level: 140, state:27&gt; county:053&gt; tract:108600</th>\n",
       "      <td>2967</td>\n",
       "    </tr>\n",
       "    <tr>\n",
       "      <th>...</th>\n",
       "      <td>...</td>\n",
       "    </tr>\n",
       "    <tr>\n",
       "      <th>Census Tract 265.10, Hennepin County, Minnesota: Summary level: 140, state:27&gt; county:053&gt; tract:026510</th>\n",
       "      <td>3579</td>\n",
       "    </tr>\n",
       "    <tr>\n",
       "      <th>Census Tract 265.12, Hennepin County, Minnesota: Summary level: 140, state:27&gt; county:053&gt; tract:026512</th>\n",
       "      <td>5868</td>\n",
       "    </tr>\n",
       "    <tr>\n",
       "      <th>Census Tract 267.07, Hennepin County, Minnesota: Summary level: 140, state:27&gt; county:053&gt; tract:026707</th>\n",
       "      <td>4795</td>\n",
       "    </tr>\n",
       "    <tr>\n",
       "      <th>Census Tract 210.02, Hennepin County, Minnesota: Summary level: 140, state:27&gt; county:053&gt; tract:021002</th>\n",
       "      <td>1959</td>\n",
       "    </tr>\n",
       "    <tr>\n",
       "      <th>Census Tract 215.02, Hennepin County, Minnesota: Summary level: 140, state:27&gt; county:053&gt; tract:021502</th>\n",
       "      <td>3526</td>\n",
       "    </tr>\n",
       "  </tbody>\n",
       "</table>\n",
       "<p>299 rows × 1 columns</p>\n",
       "</div>"
      ],
      "text/plain": [
       "                                                    Poverty_Count\n",
       "Census Tract 1048, Hennepin County, Minnesota: ...           7951\n",
       "Census Tract 1087, Hennepin County, Minnesota: ...           3652\n",
       "Census Tract 1056, Hennepin County, Minnesota: ...           4384\n",
       "Census Tract 1062, Hennepin County, Minnesota: ...           4084\n",
       "Census Tract 1086, Hennepin County, Minnesota: ...           2967\n",
       "...                                                           ...\n",
       "Census Tract 265.10, Hennepin County, Minnesota...           3579\n",
       "Census Tract 265.12, Hennepin County, Minnesota...           5868\n",
       "Census Tract 267.07, Hennepin County, Minnesota...           4795\n",
       "Census Tract 210.02, Hennepin County, Minnesota...           1959\n",
       "Census Tract 215.02, Hennepin County, Minnesota...           3526\n",
       "\n",
       "[299 rows x 1 columns]"
      ]
     },
     "execution_count": 25,
     "metadata": {},
     "output_type": "execute_result"
    }
   ],
   "source": [
    "poverty_hennepin = censusdata.download('acs5', 2018,\n",
    "                             censusdata.censusgeo([('state', '27'), ('county', '053'), ('tract', '*')]),\n",
    "                             ['B17001_001E'])\n",
    "\n",
    "poverty_tract = poverty_hennepin.rename(columns={'B17001_001E': 'Poverty_Count'})\n",
    "poverty_tract"
   ]
  },
  {
   "cell_type": "markdown",
   "id": "03ee69b7-4826-495f-b245-d4e1805eb6a7",
   "metadata": {},
   "source": [
    "## Combining Tables"
   ]
  },
  {
   "cell_type": "code",
   "execution_count": 26,
   "id": "b70168b4-28c4-4083-8d8f-ee30bef92012",
   "metadata": {},
   "outputs": [
    {
     "data": {
      "text/html": [
       "<div>\n",
       "<style scoped>\n",
       "    .dataframe tbody tr th:only-of-type {\n",
       "        vertical-align: middle;\n",
       "    }\n",
       "\n",
       "    .dataframe tbody tr th {\n",
       "        vertical-align: top;\n",
       "    }\n",
       "\n",
       "    .dataframe thead th {\n",
       "        text-align: right;\n",
       "    }\n",
       "</style>\n",
       "<table border=\"1\" class=\"dataframe\">\n",
       "  <thead>\n",
       "    <tr style=\"text-align: right;\">\n",
       "      <th></th>\n",
       "      <th>tract</th>\n",
       "      <th>Poverty_Count</th>\n",
       "    </tr>\n",
       "  </thead>\n",
       "  <tbody>\n",
       "    <tr>\n",
       "      <th>0</th>\n",
       "      <td>Census Tract 1048, Hennepin County, Minnesota:...</td>\n",
       "      <td>7951</td>\n",
       "    </tr>\n",
       "  </tbody>\n",
       "</table>\n",
       "</div>"
      ],
      "text/plain": [
       "                                               tract  Poverty_Count\n",
       "0  Census Tract 1048, Hennepin County, Minnesota:...           7951"
      ]
     },
     "execution_count": 26,
     "metadata": {},
     "output_type": "execute_result"
    }
   ],
   "source": [
    "#converting the index into a column for merging\n",
    "\n",
    "age = pd.DataFrame(sex_by_age_tract).reset_index().rename({'index':'tract'}, axis = 'columns')\n",
    "race = pd.DataFrame(race_tract).reset_index().rename({'index':'tract'}, axis = 'columns')\n",
    "employment = pd.DataFrame(employment_status_tract).reset_index().rename({'index':'tract'}, axis = 'columns')\n",
    "housing = pd.DataFrame(housing_units_tract).reset_index().rename({'index':'tract'}, axis = 'columns')\n",
    "income = pd.DataFrame(income_tract).reset_index().rename({'index':'tract'}, axis = 'columns')\n",
    "language = pd.DataFrame(language_tracts).reset_index().rename({'index':'tract'}, axis = 'columns')\n",
    "english = pd.DataFrame(english_total_tract).reset_index().rename({'index':'tract', 0:'English_Total_Tract'}, axis = 'columns')\n",
    "spanish = pd.DataFrame(spanish_total_tract).reset_index().rename({'index':'tract', 0:'Spanish_Total_Tract'}, axis = 'columns')\n",
    "indoeuro = pd.DataFrame(indoeuro_total_tract).reset_index().rename({'index':'tract', 0:'Indoeuro_Total_Tract'}, axis = 'columns')\n",
    "asian = pd.DataFrame(asian_total_tract).reset_index().rename({'index':'tract', 0:'Asian_Total_Tract'}, axis = 'columns')\n",
    "other = pd.DataFrame(other_language_tract).reset_index().rename({'index':'tract', 0:'Other_Language_Tract'}, axis = 'columns')\n",
    "insurance = pd.DataFrame(health_insurance_tract).reset_index().rename({'index':'tract'}, axis = 'columns')\n",
    "poverty = pd.DataFrame(poverty_tract).reset_index().rename({'index':'tract'}, axis = 'columns')\n",
    "poverty.head(1) #double checking"
   ]
  },
  {
   "cell_type": "code",
   "execution_count": 27,
   "id": "323857df-9b2c-400d-af55-d29202d233b1",
   "metadata": {},
   "outputs": [],
   "source": [
    "#mergingin all tables together based off the census tract number\n",
    "\n",
    "a = age.merge(race, how='inner', on='tract')\n",
    "b = employment.merge(a, how='inner', on='tract')\n",
    "c = housing.merge(b, how='inner', on='tract')\n",
    "d = income.merge(c, how='inner', on='tract')\n",
    "e = language.merge(d, how='inner', on='tract')\n",
    "f = english.merge(e, how='inner', on='tract')\n",
    "g = spanish.merge(f, how='inner', on='tract')\n",
    "h = indoeuro.merge(g, how='inner', on='tract')\n",
    "i = asian.merge(h, how='inner', on='tract')\n",
    "j = other.merge(i, how='inner', on='tract')\n",
    "k = insurance.merge(j, how='inner', on='tract')\n",
    "l = poverty.merge(k, how='inner', on='tract')"
   ]
  },
  {
   "cell_type": "markdown",
   "id": "8dabd557-15c0-438e-89c1-ce0f9cb6d1c5",
   "metadata": {},
   "source": [
    "## Parsing Out Tract Number"
   ]
  },
  {
   "cell_type": "code",
   "execution_count": 28,
   "id": "97d20c47-c74f-463e-a34e-85ed2531f1f8",
   "metadata": {},
   "outputs": [
    {
     "data": {
      "text/html": [
       "<div>\n",
       "<style scoped>\n",
       "    .dataframe tbody tr th:only-of-type {\n",
       "        vertical-align: middle;\n",
       "    }\n",
       "\n",
       "    .dataframe tbody tr th {\n",
       "        vertical-align: top;\n",
       "    }\n",
       "\n",
       "    .dataframe thead th {\n",
       "        text-align: right;\n",
       "    }\n",
       "</style>\n",
       "<table border=\"1\" class=\"dataframe\">\n",
       "  <thead>\n",
       "    <tr style=\"text-align: right;\">\n",
       "      <th></th>\n",
       "      <th>tract</th>\n",
       "      <th>Poverty_Count</th>\n",
       "      <th>Health_Insurance</th>\n",
       "      <th>Other_Language_Tract</th>\n",
       "      <th>Asian_Total_Tract</th>\n",
       "      <th>Indoeuro_Total_Tract</th>\n",
       "      <th>Spanish_Total_Tract</th>\n",
       "      <th>English_Total_Tract</th>\n",
       "      <th>Language_Total_Count</th>\n",
       "      <th>Income</th>\n",
       "      <th>...</th>\n",
       "      <th>Total_Race</th>\n",
       "      <th>White_Count</th>\n",
       "      <th>Black_Count</th>\n",
       "      <th>AmIndian_Count</th>\n",
       "      <th>Asian_Count</th>\n",
       "      <th>NativeHI_Count</th>\n",
       "      <th>1RaceOther_Count</th>\n",
       "      <th>2RaceOther_Count</th>\n",
       "      <th>2+RaceInc_Count</th>\n",
       "      <th>2+RaceExc_Count</th>\n",
       "    </tr>\n",
       "  </thead>\n",
       "  <tbody>\n",
       "    <tr>\n",
       "      <th>0</th>\n",
       "      <td>104800</td>\n",
       "      <td>7951</td>\n",
       "      <td>9979</td>\n",
       "      <td>3656</td>\n",
       "      <td>854</td>\n",
       "      <td>269</td>\n",
       "      <td>133</td>\n",
       "      <td>3991</td>\n",
       "      <td>8903</td>\n",
       "      <td>12063</td>\n",
       "      <td>...</td>\n",
       "      <td>10065</td>\n",
       "      <td>3219</td>\n",
       "      <td>5146</td>\n",
       "      <td>36</td>\n",
       "      <td>1156</td>\n",
       "      <td>0</td>\n",
       "      <td>112</td>\n",
       "      <td>396</td>\n",
       "      <td>0</td>\n",
       "      <td>396</td>\n",
       "    </tr>\n",
       "    <tr>\n",
       "      <th>1</th>\n",
       "      <td>108700</td>\n",
       "      <td>3652</td>\n",
       "      <td>3652</td>\n",
       "      <td>268</td>\n",
       "      <td>107</td>\n",
       "      <td>0</td>\n",
       "      <td>63</td>\n",
       "      <td>3159</td>\n",
       "      <td>3597</td>\n",
       "      <td>28163</td>\n",
       "      <td>...</td>\n",
       "      <td>3840</td>\n",
       "      <td>2485</td>\n",
       "      <td>674</td>\n",
       "      <td>116</td>\n",
       "      <td>148</td>\n",
       "      <td>28</td>\n",
       "      <td>79</td>\n",
       "      <td>310</td>\n",
       "      <td>11</td>\n",
       "      <td>299</td>\n",
       "    </tr>\n",
       "  </tbody>\n",
       "</table>\n",
       "<p>2 rows × 26 columns</p>\n",
       "</div>"
      ],
      "text/plain": [
       "    tract  Poverty_Count  Health_Insurance  Other_Language_Tract  \\\n",
       "0  104800           7951              9979                  3656   \n",
       "1  108700           3652              3652                   268   \n",
       "\n",
       "   Asian_Total_Tract  Indoeuro_Total_Tract  Spanish_Total_Tract  \\\n",
       "0                854                   269                  133   \n",
       "1                107                     0                   63   \n",
       "\n",
       "   English_Total_Tract  Language_Total_Count  Income  ...  Total_Race  \\\n",
       "0                 3991                  8903   12063  ...       10065   \n",
       "1                 3159                  3597   28163  ...        3840   \n",
       "\n",
       "   White_Count  Black_Count  AmIndian_Count  Asian_Count  NativeHI_Count  \\\n",
       "0         3219         5146              36         1156               0   \n",
       "1         2485          674             116          148              28   \n",
       "\n",
       "   1RaceOther_Count  2RaceOther_Count  2+RaceInc_Count  2+RaceExc_Count  \n",
       "0               112               396                0              396  \n",
       "1                79               310               11              299  \n",
       "\n",
       "[2 rows x 26 columns]"
      ]
     },
     "execution_count": 28,
     "metadata": {},
     "output_type": "execute_result"
    }
   ],
   "source": [
    "l['tract'] = l.tract.apply(lambda x: x.params()[2][1]) # Extracting Tract Number from censusgeo objects\n",
    "full_census_data = l\n",
    "full_census_data.head(2)"
   ]
  },
  {
   "cell_type": "markdown",
   "id": "40795823-28dc-4b9f-8279-f30f6f312fe6",
   "metadata": {},
   "source": [
    "## Importing Census Tract Boundaries"
   ]
  },
  {
   "cell_type": "code",
   "execution_count": 29,
   "id": "620ba02f-94d6-4995-9a68-df1a2a4d17ef",
   "metadata": {},
   "outputs": [
    {
     "data": {
      "text/html": [
       "<div>\n",
       "<style scoped>\n",
       "    .dataframe tbody tr th:only-of-type {\n",
       "        vertical-align: middle;\n",
       "    }\n",
       "\n",
       "    .dataframe tbody tr th {\n",
       "        vertical-align: top;\n",
       "    }\n",
       "\n",
       "    .dataframe thead th {\n",
       "        text-align: right;\n",
       "    }\n",
       "</style>\n",
       "<table border=\"1\" class=\"dataframe\">\n",
       "  <thead>\n",
       "    <tr style=\"text-align: right;\">\n",
       "      <th></th>\n",
       "      <th>STATEFP10</th>\n",
       "      <th>COUNTYFP10</th>\n",
       "      <th>TRACTCE10</th>\n",
       "      <th>GEOID10</th>\n",
       "      <th>NAME10</th>\n",
       "      <th>NAMELSAD10</th>\n",
       "      <th>MTFCC10</th>\n",
       "      <th>FUNCSTAT10</th>\n",
       "      <th>ALAND10</th>\n",
       "      <th>AWATER10</th>\n",
       "      <th>INTPTLAT10</th>\n",
       "      <th>INTPTLON10</th>\n",
       "      <th>Shape_Leng</th>\n",
       "      <th>Shape_Area</th>\n",
       "      <th>geometry</th>\n",
       "    </tr>\n",
       "  </thead>\n",
       "  <tbody>\n",
       "    <tr>\n",
       "      <th>0</th>\n",
       "      <td>27</td>\n",
       "      <td>053</td>\n",
       "      <td>023802</td>\n",
       "      <td>27053023802</td>\n",
       "      <td>238.02</td>\n",
       "      <td>Census Tract 238.02</td>\n",
       "      <td>G5020</td>\n",
       "      <td>S</td>\n",
       "      <td>1436930.0</td>\n",
       "      <td>0.0</td>\n",
       "      <td>+44.8971701</td>\n",
       "      <td>-093.3241608</td>\n",
       "      <td>5374.233258</td>\n",
       "      <td>1.435801e+06</td>\n",
       "      <td>MULTIPOLYGON (((474627.919 4972475.865, 474630...</td>\n",
       "    </tr>\n",
       "    <tr>\n",
       "      <th>1</th>\n",
       "      <td>27</td>\n",
       "      <td>053</td>\n",
       "      <td>111300</td>\n",
       "      <td>27053111300</td>\n",
       "      <td>1113</td>\n",
       "      <td>Census Tract 1113</td>\n",
       "      <td>G5020</td>\n",
       "      <td>S</td>\n",
       "      <td>1776104.0</td>\n",
       "      <td>0.0</td>\n",
       "      <td>+44.9072985</td>\n",
       "      <td>-093.3093354</td>\n",
       "      <td>5646.225669</td>\n",
       "      <td>1.774710e+06</td>\n",
       "      <td>POLYGON ((475529.871 4972059.890, 475431.109 4...</td>\n",
       "    </tr>\n",
       "  </tbody>\n",
       "</table>\n",
       "</div>"
      ],
      "text/plain": [
       "  STATEFP10 COUNTYFP10 TRACTCE10      GEOID10  NAME10           NAMELSAD10  \\\n",
       "0        27        053    023802  27053023802  238.02  Census Tract 238.02   \n",
       "1        27        053    111300  27053111300    1113    Census Tract 1113   \n",
       "\n",
       "  MTFCC10 FUNCSTAT10    ALAND10  AWATER10   INTPTLAT10    INTPTLON10  \\\n",
       "0   G5020          S  1436930.0       0.0  +44.8971701  -093.3241608   \n",
       "1   G5020          S  1776104.0       0.0  +44.9072985  -093.3093354   \n",
       "\n",
       "    Shape_Leng    Shape_Area  \\\n",
       "0  5374.233258  1.435801e+06   \n",
       "1  5646.225669  1.774710e+06   \n",
       "\n",
       "                                            geometry  \n",
       "0  MULTIPOLYGON (((474627.919 4972475.865, 474630...  \n",
       "1  POLYGON ((475529.871 4972059.890, 475431.109 4...  "
      ]
     },
     "execution_count": 29,
     "metadata": {},
     "output_type": "execute_result"
    }
   ],
   "source": [
    "boundaries = gpd.read_file('mpls_census_tracts\\mpls_census_tracts.shp')\n",
    "boundaries.head(2)"
   ]
  },
  {
   "cell_type": "markdown",
   "id": "769313d0-2be9-4c34-95df-8f28ad5cef43",
   "metadata": {},
   "source": [
    "## Combining Census Data with Census Tract Boundaries"
   ]
  },
  {
   "cell_type": "code",
   "execution_count": 30,
   "id": "569d901a-ac8e-40e5-b497-f7f419abd67d",
   "metadata": {},
   "outputs": [
    {
     "data": {
      "text/plain": [
       "<Projected CRS: EPSG:26915>\n",
       "Name: NAD83 / UTM zone 15N\n",
       "Axis Info [cartesian]:\n",
       "- E[east]: Easting (metre)\n",
       "- N[north]: Northing (metre)\n",
       "Area of Use:\n",
       "- name: North America - 96°W to 90°W and NAD83 by country\n",
       "- bounds: (-96.0, 25.61, -90.0, 84.0)\n",
       "Coordinate Operation:\n",
       "- name: UTM zone 15N\n",
       "- method: Transverse Mercator\n",
       "Datum: North American Datum 1983\n",
       "- Ellipsoid: GRS 1980\n",
       "- Prime Meridian: Greenwich"
      ]
     },
     "execution_count": 30,
     "metadata": {},
     "output_type": "execute_result"
    }
   ],
   "source": [
    "data = pd.DataFrame(full_census_data)\n",
    "tracts = gpd.GeoDataFrame(boundaries)\n",
    "census_poly= pd.merge(tracts, data, left_on = 'TRACTCE10', right_on = 'tract', how = 'inner')\n",
    "mpls_census_data_gdf = census_poly.dropna()\n",
    "\n",
    "mpls_census_data_gdf.crs"
   ]
  },
  {
   "cell_type": "code",
   "execution_count": 31,
   "id": "02758c16-6deb-4294-a2d0-1b361b026bcc",
   "metadata": {},
   "outputs": [
    {
     "data": {
      "text/plain": [
       "<AxesSubplot:>"
      ]
     },
     "execution_count": 31,
     "metadata": {},
     "output_type": "execute_result"
    },
    {
     "data": {
      "image/png": "[encoded data removed]",
      "text/plain": [
       "<Figure size 432x288 with 1 Axes>"
      ]
     },
     "metadata": {
      "needs_background": "light"
     },
     "output_type": "display_data"
    }
   ],
   "source": [
    "mpls_census_data_gdf.plot()"
   ]
  },
  {
   "cell_type": "markdown",
   "id": "35c5441d-7d82-4a2d-b50a-7217cafaf736",
   "metadata": {},
   "source": [
    "## Saving as a Shapefile and GeoJSON"
   ]
  },
  {
   "cell_type": "code",
   "execution_count": 33,
   "id": "58904174-e751-4eb1-92d3-1daeddd5b5ef",
   "metadata": {},
   "outputs": [
    {
     "name": "stderr",
     "output_type": "stream",
     "text": [
      "C:\\Users\\HAL\\miniconda3\\envs\\geog5531\\lib\\site-packages\\ipykernel_launcher.py:3: UserWarning: Column names longer than 10 characters will be truncated when saved to ESRI Shapefile.\n",
      "  This is separate from the ipykernel package so we can avoid doing imports until\n",
      "C:\\Users\\HAL\\miniconda3\\envs\\geog5531\\lib\\site-packages\\ipykernel_launcher.py:9: UserWarning: Column names longer than 10 characters will be truncated when saved to ESRI Shapefile.\n",
      "  if __name__ == '__main__':\n"
     ]
    }
   ],
   "source": [
    "# UTM-15N\n",
    "\n",
    "mpls_census_data_gdf.to_file(r'mpls_census_data_UTM.shp') # Save shapefile\n",
    "mpls_census_data_gdf.to_file(r'mpls_census_data_UTM.geojson', \n",
    "                                                 driver='GeoJSON') # Save GeoJSON\n",
    "\n",
    "# WGS84\n",
    "\n",
    "mpls_census_data_gdf.to_crs('EPSG:4326').to_file(r'mpls_census_data_WGS.shp') # Save shapefile\n",
    "mpls_census_data_gdf.to_crs('EPSG:4326').to_file(r'mpls_census_data_WGS.geojson',\n",
    "                                                 driver='GeoJSON') # Save GeoJSON"
   ]
  },
  {
   "cell_type": "code",
   "execution_count": null,
   "id": "5357458f-2716-47c8-86f9-c2dca98830ac",
   "metadata": {},
   "outputs": [],
   "source": []
  }
 ],
 "metadata": {
  "kernelspec": {
   "display_name": "Python 3 (ipykernel)",
   "language": "python",
   "name": "python3"
  },
  "language_info": {
   "codemirror_mode": {
    "name": "ipython",
    "version": 3
   },
   "file_extension": ".py",
   "mimetype": "text/x-python",
   "name": "python",
   "nbconvert_exporter": "python",
   "pygments_lexer": "ipython3",
   "version": "3.7.11"
  }
 },
 "nbformat": 4,
 "nbformat_minor": 5
}
