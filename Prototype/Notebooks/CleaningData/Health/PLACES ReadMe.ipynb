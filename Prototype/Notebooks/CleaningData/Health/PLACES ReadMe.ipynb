{
 "cells": [
  {
   "cell_type": "markdown",
   "id": "abfb1484-6935-47d1-bf58-4aa0a60f4400",
   "metadata": {},
   "source": [
    "created Oct 20, 2020\n",
    "\n",
    "updated Dec 1, 2021"
   ]
  },
  {
   "cell_type": "markdown",
   "id": "e683350b-a160-47f2-b6a1-16ee7b6049fd",
   "metadata": {},
   "source": [
    "Description:\n",
    "    \n",
    "This dataset contains model-based place (incorporated and census designated places) level estimates for the PLACES 2021 release in GIS-friendly format. PLACES is the expansion of the original 500 Cities Project and covers the entire United States—50 states and the District of Columbia (DC)—at county, place, census tract, and ZIP Code Tabulation Area (ZCTA) levels. It represents a first-of-its kind effort to release information uniformly on this large scale for local areas at 4 geographic levels. Estimates were provided by the Centers for Disease Control and Prevention (CDC), Division of Population Health, Epidemiology and Surveillance Branch. PLACES was funded by the Robert Wood Johnson Foundation (RWJF) in conjunction with the CDC Foundation. Data sources used to generate these model-based estimates include Behavioral Risk Factor Surveillance System (BRFSS) 2019 or 2018 data, Census Bureau 2010 population estimates, and American Community Survey (ACS) 2015–2019 or 2014–2018 estimates. The 2021 release uses 2019 BRFSS data for 22 measures and 2018 BRFSS data for 7 measures (all teeth lost, dental visits, mammograms, cervical cancer screening, colorectal cancer screening, core preventive services among older adults, and sleeping less than 7 hours a night). Seven measures are based on the 2018 BRFSS data because the relevant questions are only asked every other year in the BRFSS. These data can be joined with the 2019 Census TIGER/Line place boundary file in a GIS system to produce maps for 29 measures at the place level. An ArcGIS Online feature service is also available for users to make maps online or to add data to desktop GIS software. https://cdcarcgis.maps.arcgis.com/home/item.html?id=3b7221d4e47740cab9235b839fa55cd7"
   ]
  },
  {
   "cell_type": "markdown",
   "id": "f00800ce-017b-400c-9f9f-9be2ce970a50",
   "metadata": {},
   "source": [
    "Publisher: Centers for Disease Control and Prevention\n",
    "<br>\n",
    "Contact Name: PLACES Public Inquiries\n",
    "<br>\n",
    "Contact Email: places@cdc.gov\n",
    "<br>\n",
    "Bureau Code: 009:20\n",
    "<br>\n",
    "Program Code: 009:020\n",
    "<br>\n",
    "Public Access Level: Public Domain\n",
    "<br>\n",
    "References: https://www.cdc.gov/places/measure-definitions/index.html"
   ]
  },
  {
   "cell_type": "markdown",
   "id": "e8f427a9-206b-4312-aa75-330a19c17f94",
   "metadata": {},
   "source": [
    "Source: https://chronicdata.cdc.gov/500-Cities-Places/PLACES-Place-Data-GIS-Friendly-Format-2021-release/vgc8-iyc4/data"
   ]
  }
 ],
 "metadata": {
  "kernelspec": {
   "display_name": "Python 3 (ipykernel)",
   "language": "python",
   "name": "python3"
  },
  "language_info": {
   "codemirror_mode": {
    "name": "ipython",
    "version": 3
   },
   "file_extension": ".py",
   "mimetype": "text/x-python",
   "name": "python",
   "nbconvert_exporter": "python",
   "pygments_lexer": "ipython3",
   "version": "3.9.7"
  }
 },
 "nbformat": 4,
 "nbformat_minor": 5
}
