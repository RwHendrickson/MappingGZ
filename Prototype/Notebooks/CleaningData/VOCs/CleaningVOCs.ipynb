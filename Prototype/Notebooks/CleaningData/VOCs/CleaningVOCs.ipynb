{
 "cells": [
  {
   "cell_type": "markdown",
   "id": "917f7361-a917-4916-b19b-5c387639337f",
   "metadata": {},
   "source": [
    "# Volatile Organic Compounds\n",
    "\n",
    "From Minneapolis Department of Health\n",
    "\n",
    "\n"
   ]
  }
 ],
 "metadata": {
  "kernelspec": {
   "display_name": "Python 3 (ipykernel)",
   "language": "python",
   "name": "python3"
  },
  "language_info": {
   "codemirror_mode": {
    "name": "ipython",
    "version": 3
   },
   "file_extension": ".py",
   "mimetype": "text/x-python",
   "name": "python",
   "nbconvert_exporter": "python",
   "pygments_lexer": "ipython3",
   "version": "3.7.12"
  }
 },
 "nbformat": 4,
 "nbformat_minor": 5
}
