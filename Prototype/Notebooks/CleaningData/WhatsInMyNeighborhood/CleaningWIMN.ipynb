{
 "cells": [
  {
   "cell_type": "markdown",
   "id": "9996c742-4cba-4661-ac81-6251e8d4b3c0",
   "metadata": {},
   "source": [
    "# What's In My Neighborhood"
   ]
  },
  {
   "cell_type": "markdown",
   "id": "d15dd92a-9535-4ef1-8ce3-057d1f8a4f62",
   "metadata": {},
   "source": [
    "This note book gets data from the Minnesota Pollution Control Agency's [What's in My Neighborhood Sites](https://www.pca.state.mn.us/data/whats-my-neighborhood) database published to the [Minnestota Geospatial Commons,](https://gisdata.mn.gov/dataset/env-my-neighborhood) clips the data to Minneapolis boundaries, edits the entries for clarity by removing missing or mislabeled data and eliminating extraneaous information, and saves the file as a geojson. (hopefully)\n",
    "\n",
    "**Downloaded Data Info:**\n",
    "\n",
    "<!-- CRS: WGS84 - epsg:4326 -->\n",
    "\n",
    "Size: \n",
    "\n",
    "**Saved Data Info:**\n",
    "\n",
    "<!-- CRS: NAD83, UTM zone 15N -- epsg:26915\n",
    "    \n",
    "Size: 4.1mb -->\n",
    "\n",
    "Source: https://gisdata.mn.gov/dataset/env-my-neighborhood"
   ]
  },
  {
   "cell_type": "code",
   "execution_count": 2,
   "id": "7d266245-6424-4d0d-a6bd-e63cded22918",
   "metadata": {},
   "outputs": [],
   "source": [
    "### Import Libraries\n",
    "\n",
    "# File manipulation\n",
    "\n",
    "import os # For working with Operating System\n",
    "from sys import platform # Diagnose operating system\n",
    "import urllib # For accessing websites\n",
    "import zipfile # For extracting from Zipfiles\n",
    "from io import BytesIO # For reading bytes objects\n",
    "\n",
    "# Analysis\n",
    "\n",
    "import numpy as np # For working with Arrays\n",
    "import pandas as pd # Data Manipulation\n",
    "import geopandas as gpd # Spatial Data Manipulation\n",
    "\n",
    "# Visualization\n",
    "\n",
    "from pprint import pprint # Pretty Printing\n",
    "import matplotlib.pyplot as plt # Basic Plotting\n",
    "import contextily # Base Map Visualization\n",
    "\n",
    "import warnings\n",
    "warnings.filterwarnings('ignore') # Ignores some warnings"
   ]
  },
  {
   "cell_type": "code",
   "execution_count": 3,
   "id": "0c2d27a3-29ed-4ab8-a12b-f1e6c46ceb33",
   "metadata": {},
   "outputs": [],
   "source": [
    "### Definitions\n",
    "\n",
    "files_before = os.listdir() # Get filenames in working directory so they aren't deleted at the end.\n",
    "cwd = os.getcwd() # Current Working Directory\n",
    "\n",
    "# Forward or back slashs for filepaths? <- Not sure here. Only know Windows & Linux\n",
    "\n",
    "if platform == \"linux\" or platform == \"linux2\":\n",
    "    slash = '/'\n",
    "elif platform == 'win32':\n",
    "    slash = '\\\\'\n",
    "\n",
    "def extract_zip_from_url(urls=None):\n",
    "    '''Extract a zipfile from the internet and unpack it in working directory.\n",
    "    Takes a single url (string) or a list of urls.'''\n",
    "    \n",
    "    if type(urls) == str: # Single url\n",
    "        url = urls\n",
    "        response = urllib.request.urlopen(url) # Get a response\n",
    "        zip_folder = zipfile.ZipFile(BytesIO(response.read())) # Read Response\n",
    "        zip_folder.extractall() # Extract files\n",
    "        zip_folder.close()\n",
    "    \n",
    "    elif type(urls) == list: # List of urls\n",
    "        for url in urls:\n",
    "            response = urllib.request.urlopen(url) # Get a response\n",
    "            zip_folder = zipfile.ZipFile(BytesIO(response.read())) # Read Response\n",
    "            zip_folder.extractall() # Extract files\n",
    "            zip_folder.close()\n",
    "            \n",
    "    else:\n",
    "        print('Error Extracting: Invalid Input')\n",
    "\n",
    "def clip_to_extent(gdf):\n",
    "    '''This function returns the dataset clipped to the boundaries of Minneapolis and the boundary itself.\n",
    "    Warning: This function will access the geojson of Minneapolis from GitHub if it's not in the current working directory or local Boundary folder.\n",
    "    See this link for more info: https://github.com/RwHendrickson/MappingGZ/blob/main/Prototype/Notebooks/CleaningData/Boundary/DefineBoundary.ipynb'''\n",
    "    \n",
    "    # Look for mpls_boundary\n",
    "    \n",
    "    cwd = os.getcwd() # Current working directory\n",
    "\n",
    "    os.chdir('..') # Bump up one directory\n",
    "\n",
    "    if 'mpls_boundary.shp' in os.listdir(cwd): # Boundary shapefile in the current working directory\n",
    "        mpls_boundary = gpd.read_file(r'mpls_boundary.shp') # Load extent as GeoDataFrame\n",
    "\n",
    "    elif 'mpls_boundary.geojson' in os.listdir(cwd): # Boundary json in the current working directory\n",
    "        mpls_boundary = gpd.read_file(r'mpls_boundary.geojson') # Load extent as GeoDataFrame\n",
    "\n",
    "    elif 'Boundary' in os.listdir(): # Boundary folder on computer\n",
    "        if 'mpls_boundary.geojson' in os.listdir('Boundary'): # Is the json there?\n",
    "            path = 'Boundary' + slash + 'mpls_boundary.geojson'\n",
    "            mpls_boundary = gpd.read_file(path)\n",
    "\n",
    "        else:\n",
    "            print('''Can't find mpls_boundary.geojson. Accessing from GitHub.\\n \n",
    "            See this link for more info: \\n\\nhttps://github.com/RwHendrickson/MappingGZ/blob/main/Prototype/Notebooks/CleaningData/Boundary/DefineBoundary.ipynb''')\n",
    "            url = 'https://raw.githubusercontent.com/RwHendrickson/MappingGZ/main/Prototype/Notebooks/CleaningData/Boundary/mpls_boundary.geojson'\n",
    "            mpls_boundary = gpd.read_file(url) # Load extent as GeoDataFrame\n",
    "    else:\n",
    "            print('''Can't find mpls_boundary.geojson. Accessing from GitHub.\\n \n",
    "            See this link for more info: \\n\\nhttps://github.com/RwHendrickson/MappingGZ/blob/main/Prototype/Notebooks/CleaningData/Boundary/DefineBoundary.ipynb''')\n",
    "            url = 'https://raw.githubusercontent.com/RwHendrickson/MappingGZ/main/Prototype/Notebooks/CleaningData/Boundary/mpls_boundary.geojson'\n",
    "            mpls_boundary = gpd.read_file(url) # Load extent as GeoDataFrame\n",
    "\n",
    "\n",
    "    os.chdir(cwd) # Go back to current working directory\n",
    "    \n",
    "    if gdf.crs != 'EPSG:26915': # Ensures gdf is in the same CRS\n",
    "        gdf = gdf.to_crs('EPSG:26915')\n",
    "    \n",
    "    clipped = gpd.clip(gdf, mpls_boundary) # Clip\n",
    "    \n",
    "    return clipped, mpls_boundary"
   ]
  },
  {
   "cell_type": "code",
   "execution_count": 4,
   "id": "e1658d84-0861-4562-905b-92f848b38075",
   "metadata": {},
   "outputs": [
    {
     "name": "stdout",
     "output_type": "stream",
     "text": [
      "Downloaded current state data from MPCA (~40.6 mb)\n",
      "\n",
      "    format: .csv\n"
     ]
    }
   ],
   "source": [
    "### Load Data\n",
    "\n",
    "## What's In My Neighborhood\n",
    "\n",
    "if 'csv_env_my_neighborhood.zip' not in os.listdir():\n",
    "    print('''Downloaded current state data from MPCA (~40.6 mb)\\n\n",
    "    format: .csv''')\n",
    "    url = 'https://resources.gisdata.mn.gov/pub/gdrs/data/pub/us_mn_state_pca/env_my_neighborhood/csv_env_my_neighborhood.zip'\n",
    "    extract_zip_from_url(url)\n",
    "    my_nabe_df = pd.read_csv(\"my_neighborhood_sites.csv\") # Load as DataFrame\n",
    "\n",
    "else:\n",
    "    print('You already have my_neighborhood_sites.csv. Please skip to the next notebook.')"
   ]
  },
  {
   "cell_type": "code",
   "execution_count": 5,
   "id": "30fb4694-9322-40e6-9559-922756b04081",
   "metadata": {},
   "outputs": [
    {
     "data": {
      "text/plain": [
       "<Geographic 2D CRS: EPSG:4326>\n",
       "Name: WGS 84\n",
       "Axis Info [ellipsoidal]:\n",
       "- Lat[north]: Geodetic latitude (degree)\n",
       "- Lon[east]: Geodetic longitude (degree)\n",
       "Area of Use:\n",
       "- name: World.\n",
       "- bounds: (-180.0, -90.0, 180.0, 90.0)\n",
       "Datum: World Geodetic System 1984 ensemble\n",
       "- Ellipsoid: WGS 84\n",
       "- Prime Meridian: Greenwich"
      ]
     },
     "execution_count": 5,
     "metadata": {},
     "output_type": "execute_result"
    }
   ],
   "source": [
    "# cast dataframe as geodataframe \n",
    "my_nabe_gdf = gpd.GeoDataFrame(my_nabe_df, geometry=gpd.points_from_xy(my_nabe_df.longitude, my_nabe_df.latitude))\n",
    "\n",
    "#set CRS to NAD 83/ UTM zone 15\n",
    "my_nabe_gdf = my_nabe_gdf.set_crs('EPSG:4326')\n",
    "\n",
    "# Check in\n",
    "my_nabe_gdf.head()\n",
    "my_nabe_gdf.crs\n"
   ]
  },
  {
   "cell_type": "markdown",
   "id": "bd12f8e4-d656-4a4b-b21e-18d7754c662d",
   "metadata": {},
   "source": [
    "* OG df did not contain crs info, and has shape info, wondering if treating this like point data in a gdf is best practice\n",
    "* also, looks to be many diff coordinate collection methods and likely various degrees of accuracy."
   ]
  },
  {
   "cell_type": "code",
   "execution_count": 6,
   "id": "323afe8c-9364-4198-b173-920f5af57d15",
   "metadata": {},
   "outputs": [],
   "source": [
    "#clip data set to MPLS boundary\n",
    "\n",
    "my_nabe_clp, mpls_boundary = clip_to_extent(my_nabe_gdf)\n"
   ]
  },
  {
   "cell_type": "code",
   "execution_count": 11,
   "id": "1b4be6a3-9e4b-4e09-9af8-70374e99abf8",
   "metadata": {},
   "outputs": [],
   "source": [
    "#export clipped data to shapefile\n",
    "my_nabe_clp.to_file('minneapolis_my_neighborhood_sites.shp')\n"
   ]
  },
  {
   "cell_type": "code",
   "execution_count": 12,
   "id": "4e5aa124-531d-4359-aea7-236bbf3e37ed",
   "metadata": {},
   "outputs": [],
   "source": [
    "# export clipped data to csv\n",
    "my_nabe_clp.to_csv('minneapolis_my_neighborhood_sites.csv', index_label = 'index')"
   ]
  }
 ],
 "metadata": {
  "kernelspec": {
   "display_name": "Python 3 (ipykernel)",
   "language": "python",
   "name": "python3"
  },
  "language_info": {
   "codemirror_mode": {
    "name": "ipython",
    "version": 3
   },
   "file_extension": ".py",
   "mimetype": "text/x-python",
   "name": "python",
   "nbconvert_exporter": "python",
   "pygments_lexer": "ipython3",
   "version": "3.7.12"
  }
 },
 "nbformat": 4,
 "nbformat_minor": 5
}
