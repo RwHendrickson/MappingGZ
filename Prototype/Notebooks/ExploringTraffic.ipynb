{
 "cells": [
  {
   "cell_type": "markdown",
   "id": "16d9d863-767e-4a5e-bf80-3d91b4254ff0",
   "metadata": {},
   "source": [
    "# Exploring Traffic\n",
    "\n",
    "AADT: Annual Average Daily Traffic"
   ]
  },
  {
   "cell_type": "code",
   "execution_count": 1,
   "id": "2f97d0b5-0838-4ae2-845f-3252587e2394",
   "metadata": {},
   "outputs": [],
   "source": [
    "### Import Libraries\n",
    "\n",
    "# File manipulation\n",
    "\n",
    "import os # For working with Operating System\n",
    "from sys import platform # Diagnose operating system\n",
    "\n",
    "# Analysis\n",
    "\n",
    "import numpy as np # For working with Arrays\n",
    "import pandas as pd # Data Manipulation\n",
    "import geopandas as gpd # Spatial Data Manipulation\n",
    "\n",
    "# Visualization\n",
    "\n",
    "from pprint import pprint # Pretty Printing\n",
    "import seaborn as sns\n",
    "import matplotlib.pyplot as plt # Basic Plotting\n",
    "import contextily # Base Map Visualization\n",
    "\n",
    "import warnings\n",
    "warnings.filterwarnings('ignore') # Ignores some warnings"
   ]
  },
  {
   "cell_type": "code",
   "execution_count": 2,
   "id": "50b25cad-6258-4d21-a2a5-40e9e9ca136c",
   "metadata": {},
   "outputs": [],
   "source": [
    "### Definitions\n",
    "\n",
    "cwd = os.getcwd() # Current Working Directory\n",
    "\n",
    "# Forward or back slashs for filepaths? <- Not sure here. Only know Windows & Linux\n",
    "\n",
    "if platform == \"linux\" or platform == \"linux2\":\n",
    "    slash = '/'\n",
    "elif platform == 'win32':\n",
    "    slash = '\\\\'\n",
    "    \n",
    "    \n",
    "def basic_stats(array):\n",
    "    '''This function will print basic stats about an array'''\n",
    "    \n",
    "    print('Mean: ', array.mean())\n",
    "    print('Median: ', array.median())\n",
    "    print('Std. Devation: ', array.std())\n",
    "    \n",
    "    f, ax = plt.subplots(1,1, figsize = (6, 4))\n",
    "    array.hist(bins = 20, ax = ax)\n",
    "    plt.show()"
   ]
  },
  {
   "cell_type": "code",
   "execution_count": 3,
   "id": "ce05c76a-9a9a-4ac3-859f-8d100f40b946",
   "metadata": {},
   "outputs": [],
   "source": [
    "# Load data\n",
    "\n",
    "cwd = os.getcwd()\n",
    "\n",
    "mpls_aadt_path = cwd + slash + 'CleaningData' + slash + 'Traffic' + slash + 'mpls_aadtWGS84.geojson'\n",
    "\n",
    "traffic = gpd.read_file(mpls_aadt_path)\n",
    "\n",
    "aadt = traffic[['SEQUENCE_N', 'ROUTE_LABE', 'CURRENT_VO', 'geometry']] # Focus"
   ]
  },
  {
   "cell_type": "code",
   "execution_count": 4,
   "id": "adeea0b3-bd31-4bf5-acf2-e430c4167259",
   "metadata": {},
   "outputs": [
    {
     "name": "stdout",
     "output_type": "stream",
     "text": [
      "5800.0\n",
      "Mean:  10364.33216168717\n",
      "Median:  5800.0\n",
      "Std. Devation:  19031.60415699182\n"
     ]
    },
    {
     "data": {
      "image/png": "[encoded data removed]",
      "text/plain": [
       "<Figure size 432x288 with 1 Axes>"
      ]
     },
     "metadata": {
      "needs_background": "light"
     },
     "output_type": "display_data"
    },
    {
     "name": "stdout",
     "output_type": "stream",
     "text": [
      "Mean:  3.7306558474116702\n",
      "Median:  3.7634279935629373\n",
      "Std. Devation:  0.4817539687555457\n"
     ]
    },
    {
     "data": {
      "image/png": "[encoded data removed]",
      "text/plain": [
       "<Figure size 432x288 with 1 Axes>"
      ]
     },
     "metadata": {
      "needs_background": "light"
     },
     "output_type": "display_data"
    }
   ],
   "source": [
    "# Explore distribution\n",
    "\n",
    "volume = aadt['CURRENT_VO']\n",
    "\n",
    "print(volume.median()) # 5800 Vehicles/day is the median of the data...\n",
    "\n",
    "basic_stats(volume) # Looks very heavily tailed, skewed right\n",
    "\n",
    "# Let's explore log\n",
    "\n",
    "log_vol = np.log10(volume)\n",
    "      \n",
    "basic_stats(log_vol) # That's better!"
   ]
  },
  {
   "cell_type": "code",
   "execution_count": 5,
   "id": "af7774c7-ac13-44ac-a9d0-c1a79c321d91",
   "metadata": {},
   "outputs": [
    {
     "name": "stdout",
     "output_type": "stream",
     "text": [
      "[1773.7886786717595, 5378.434046382046, 16308.34221635856]\n"
     ]
    }
   ],
   "source": [
    "# 5000 vehicles will be a cutoff?\n",
    "\n",
    "std = log_vol.std()\n",
    "mean = log_vol.mean()\n",
    "\n",
    "cutoffs = [10**(mean-std), 10**(mean), 10**(mean+std)]\n",
    "\n",
    "print(cutoffs)"
   ]
  },
  {
   "cell_type": "code",
   "execution_count": 6,
   "id": "a120a982-ad1a-4941-a97d-01c70fc2943a",
   "metadata": {},
   "outputs": [],
   "source": [
    "# Let's use\n",
    "\n",
    "# Let's do \n",
    "# 1773 - low\n",
    "# 5378 - mid-low\n",
    "# 16308 - mid\n",
    "# 100000 - High\n",
    "# Above - Very High! <- Could potentiall use another break here"
   ]
  }
 ],
 "metadata": {
  "kernelspec": {
   "display_name": "Python 3 (ipykernel)",
   "language": "python",
   "name": "python3"
  },
  "language_info": {
   "codemirror_mode": {
    "name": "ipython",
    "version": 3
   },
   "file_extension": ".py",
   "mimetype": "text/x-python",
   "name": "python",
   "nbconvert_exporter": "python",
   "pygments_lexer": "ipython3",
   "version": "3.7.12"
  }
 },
 "nbformat": 4,
 "nbformat_minor": 5
}
