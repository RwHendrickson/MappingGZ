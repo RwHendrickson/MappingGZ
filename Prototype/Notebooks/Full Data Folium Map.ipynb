{
 "cells": [
  {
   "cell_type": "markdown",
   "id": "73a2ad6f-8a69-49f6-bb2b-c48183e3fa1a",
   "metadata": {},
   "source": [
    "# Interactive Map - Folium (Leaflet)\n",
    "\n",
    "For experimentation on creating an interactive map with our data."
   ]
  },
  {
   "cell_type": "code",
   "execution_count": 1,
   "id": "0904c4e4-641c-47df-86be-4e51ea114107",
   "metadata": {},
   "outputs": [],
   "source": [
    "### Import Libraries\n",
    "\n",
    "# File manipulation\n",
    "\n",
    "import os # For working with Operating System\n",
    "from sys import platform # Diagnose operating system\n",
    "import json # For working with Json files\n",
    "import requests # Processing online requests\n",
    "\n",
    "\n",
    "# Analysis\n",
    "\n",
    "import numpy as np # For working with Arrays\n",
    "import pandas as pd # Data Manipulation\n",
    "import geopandas as gpd # Spatial Data Manipulation\n",
    "\n",
    "# Visualization\n",
    "\n",
    "import folium # Interactive Leaflet.js mapping \n",
    "from folium import features\n",
    "\n",
    "import warnings\n",
    "warnings.filterwarnings('ignore') # Ignores some warnings"
   ]
  },
  {
   "cell_type": "code",
   "execution_count": 2,
   "id": "8776beb5-c862-4e1d-86ae-5d97b7fccfe6",
   "metadata": {},
   "outputs": [],
   "source": [
    "# Load Data -  We'll have to convert all data to another projection... <- Maybe go back and do this in the cleaning notebooks\n",
    "# Let's use WGS84 EPSG:4326...\n",
    "\n",
    "# Get GeoJsons from GitHub\n",
    "\n",
    "url = (\n",
    "    \"https://raw.githubusercontent.com/RwHendrickson/MappingGZ/main/Prototype/Notebooks/CleaningData\"\n",
    ")\n",
    "mpls_boundary_path = f\"{url}/Boundary/mpls_boundaryWGS84.geojson\"\n",
    "mpls_aadt_path = f\"{url}/Traffic/mpls_aadtWGS84.geojson\"\n",
    "# mpls_emissions_path = f'{url}/PermittedEmissions/mpls_emissions.csv\""
   ]
  },
  {
   "cell_type": "code",
   "execution_count": 3,
   "id": "1495dadb-76a5-4c4b-84be-42ef2bb37946",
   "metadata": {},
   "outputs": [],
   "source": [
    "def style_aadt(feature):\n",
    "    '''Set Thickness/color of streets to be proportional to traffic volume'''\n",
    "    \n",
    "    volume = feature['properties']['CURRENT_VO']\n",
    "    \n",
    "    if volume < 100: # Low volume\n",
    "        return {\n",
    "        \"weight\": 1,\n",
    "        \"color\": \"#848484\"\n",
    "    }\n",
    "    elif volume < 1000: # Low-mid volume\n",
    "        return {\n",
    "        \"weight\": 3,\n",
    "        \"color\": \"#936d6d\"\n",
    "    }\n",
    "    elif volume < 10000: # Mid volume\n",
    "        return {\n",
    "        \"weight\": 5,\n",
    "        \"color\": \"#a94646\"\n",
    "    }\n",
    "    elif volume < 100000: # High Volume\n",
    "        return {\n",
    "        \"weight\": 10,\n",
    "        \"color\": \"#f90707\"\n",
    "    }\n",
    "    else: # Very High Volume\n",
    "        return {\n",
    "        \"weight\": 15,\n",
    "        \"color\": \"#090707\"\n",
    "    }"
   ]
  },
  {
   "cell_type": "code",
   "execution_count": 4,
   "id": "50f8b4ea-5997-46d3-83f6-aed64088a55a",
   "metadata": {},
   "outputs": [
    {
     "data": {
      "text/plain": [
       "<folium.features.GeoJson at 0x1bd6c4e6b48>"
      ]
     },
     "execution_count": 4,
     "metadata": {},
     "output_type": "execute_result"
    }
   ],
   "source": [
    "# Make a basic folium map\n",
    "\n",
    "m = folium.Map(location=[44.986656, -93.258133],\n",
    "               zoom_start=12,\n",
    "               tiles = 'cartodbpositron')\n",
    "\n",
    "# Add boundary\n",
    "\n",
    "folium.GeoJson(mpls_boundary_path, name=\"geojson\").add_to(m)\n",
    "\n",
    "# Add traffic\n",
    "\n",
    "folium.GeoJson(mpls_aadt_path,\n",
    "               style_function = lambda feature: style_aadt(feature)).add_to(m)"
   ]
  },
  {
   "cell_type": "code",
   "execution_count": 5,
   "id": "2b53ef38-58b8-4dfa-aa2c-756c1db0650a",
   "metadata": {},
   "outputs": [],
   "source": [
    "# Save Map\n",
    "\n",
    "m.save(os.path.join('.', 'MVP.html'))"
   ]
  }
 ],
 "metadata": {
  "kernelspec": {
   "display_name": "Python 3 (ipykernel)",
   "language": "python",
   "name": "python3"
  },
  "language_info": {
   "codemirror_mode": {
    "name": "ipython",
    "version": 3
   },
   "file_extension": ".py",
   "mimetype": "text/x-python",
   "name": "python",
   "nbconvert_exporter": "python",
   "pygments_lexer": "ipython3",
   "version": "3.7.11"
  }
 },
 "nbformat": 4,
 "nbformat_minor": 5
}
